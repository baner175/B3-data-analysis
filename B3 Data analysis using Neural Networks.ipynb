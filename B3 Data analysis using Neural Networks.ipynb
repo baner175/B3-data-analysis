{
 "cells": [
  {
   "cell_type": "markdown",
   "id": "13ba3c82",
   "metadata": {},
   "source": [
    "# Loading the necessary modules"
   ]
  },
  {
   "cell_type": "code",
   "execution_count": 1,
   "id": "9ad56f88",
   "metadata": {},
   "outputs": [],
   "source": [
    "import tensorflow as tf\n",
    "from tensorflow.keras.utils import to_categorical\n",
    "from tensorflow.keras.layers import Flatten, Dense\n",
    "from tensorflow.keras.losses import BinaryCrossentropy\n",
    "from sklearn.model_selection import train_test_split\n",
    "from sklearn.preprocessing import LabelEncoder, MinMaxScaler\n",
    "from sklearn.metrics import confusion_matrix, f1_score, roc_auc_score, accuracy_score, roc_curve\n",
    "import pandas as pd\n",
    "import numpy as np\n",
    "import matplotlib.pyplot as plt"
   ]
  },
  {
   "cell_type": "markdown",
   "id": "a8f76905",
   "metadata": {},
   "source": [
    "# Loading the data:\n",
    "## (Rows with NA's and features with too many missing values have been removed already)"
   ]
  },
  {
   "cell_type": "code",
   "execution_count": 15,
   "id": "1dc6b034",
   "metadata": {},
   "outputs": [],
   "source": [
    "data_full = pd.read_csv('B3_working.csv', low_memory = False)"
   ]
  },
  {
   "cell_type": "markdown",
   "id": "7c39b996",
   "metadata": {},
   "source": [
    "# Scaling the design matrix and transforming the response\n",
    "Here we simply use the min-max scaler and we change the response to 0 and 1 (0 for the class BBB+ and 1 for the class BBB-)"
   ]
  },
  {
   "cell_type": "code",
   "execution_count": 16,
   "id": "bac19a6c",
   "metadata": {},
   "outputs": [
    {
     "name": "stdout",
     "output_type": "stream",
     "text": [
      "(6220, 1189)\n",
      "(6220,)\n",
      "(1555, 1189)\n",
      "(1555,)\n"
     ]
    }
   ],
   "source": [
    "X = np.array(data_full.loc[:, data_full.columns != 'y'])\n",
    "mm = MinMaxScaler()\n",
    "X = mm.fit_transform(X)\n",
    "y = data_full['y']\n",
    "le = LabelEncoder()\n",
    "le.fit(y)\n",
    "y = le.transform(y)\n",
    "X_train, X_test, y_train, y_test = train_test_split(X, y, train_size = 0.8, random_state = 42)\n",
    "print(X_train.shape)\n",
    "print(y_train.shape)\n",
    "print(X_test.shape)\n",
    "print(y_test.shape)"
   ]
  },
  {
   "cell_type": "code",
   "execution_count": 17,
   "id": "a546d2e6",
   "metadata": {},
   "outputs": [
    {
     "data": {
      "text/plain": [
       "array([0, 0, 0, ..., 0, 1, 1])"
      ]
     },
     "execution_count": 17,
     "metadata": {},
     "output_type": "execute_result"
    }
   ],
   "source": [
    "y_test"
   ]
  },
  {
   "cell_type": "markdown",
   "id": "7a9f1793",
   "metadata": {},
   "source": [
    "# Making Neural Network model with only 2 hidden layers\n",
    "Here for the last layer we have used the usual sigmoid function to get the corresponding class probabilites"
   ]
  },
  {
   "cell_type": "code",
   "execution_count": 32,
   "id": "a23d1884",
   "metadata": {},
   "outputs": [],
   "source": [
    "nn_model = tf.keras.Sequential()\n",
    "nn_model.add(Dense(128, activation = 'relu'))\n",
    "nn_model.add(Dense(32, activation = 'relu'))\n",
    "nn_model.add(Dense(1, activation = 'sigmoid'))"
   ]
  },
  {
   "cell_type": "code",
   "execution_count": 33,
   "id": "e256738a",
   "metadata": {},
   "outputs": [],
   "source": [
    "nn_model.compile(\n",
    "    optimizer = 'Adam',\n",
    "    loss =  BinaryCrossentropy(),\n",
    "    metrics = ['accuracy']\n",
    ")"
   ]
  },
  {
   "cell_type": "code",
   "execution_count": 34,
   "id": "5ff4c1af",
   "metadata": {},
   "outputs": [
    {
     "data": {
      "text/plain": [
       "<keras.callbacks.History at 0x1f9073e28e0>"
      ]
     },
     "execution_count": 34,
     "metadata": {},
     "output_type": "execute_result"
    }
   ],
   "source": [
    "nn_model.fit(X_train, y_train, epochs = 50, validation_data = (X_test, y_test), verbose = 0)"
   ]
  },
  {
   "cell_type": "code",
   "execution_count": 35,
   "id": "5805b1bb",
   "metadata": {},
   "outputs": [
    {
     "name": "stdout",
     "output_type": "stream",
     "text": [
      "Model: \"sequential_2\"\n",
      "_________________________________________________________________\n",
      " Layer (type)                Output Shape              Param #   \n",
      "=================================================================\n",
      " dense_6 (Dense)             (None, 128)               152320    \n",
      "                                                                 \n",
      " dense_7 (Dense)             (None, 32)                4128      \n",
      "                                                                 \n",
      " dense_8 (Dense)             (None, 1)                 33        \n",
      "                                                                 \n",
      "=================================================================\n",
      "Total params: 156,481\n",
      "Trainable params: 156,481\n",
      "Non-trainable params: 0\n",
      "_________________________________________________________________\n"
     ]
    }
   ],
   "source": [
    "nn_model.summary()"
   ]
  },
  {
   "cell_type": "markdown",
   "id": "fafc06bc",
   "metadata": {},
   "source": [
    "# After fitting the model let us obtain the prediction probabilities for the class BBB-"
   ]
  },
  {
   "cell_type": "code",
   "execution_count": 22,
   "id": "3d9b787f",
   "metadata": {},
   "outputs": [
    {
     "name": "stdout",
     "output_type": "stream",
     "text": [
      "49/49 [==============================] - 0s 614us/step\n"
     ]
    }
   ],
   "source": [
    "y_pred_proba = nn_model.predict(X_test)"
   ]
  },
  {
   "cell_type": "code",
   "execution_count": 23,
   "id": "06efc15d",
   "metadata": {},
   "outputs": [
    {
     "data": {
      "text/plain": [
       "array([[5.5576498e-03],\n",
       "       [2.0184502e-02],\n",
       "       [4.3363380e-03],\n",
       "       ...,\n",
       "       [2.3497020e-04],\n",
       "       [9.9225956e-01],\n",
       "       [4.0390620e-01]], dtype=float32)"
      ]
     },
     "execution_count": 23,
     "metadata": {},
     "output_type": "execute_result"
    }
   ],
   "source": [
    "y_pred_proba"
   ]
  },
  {
   "cell_type": "markdown",
   "id": "2812eaee",
   "metadata": {},
   "source": [
    "## To get the optimal threshold for the classification we compare the F-scores for several threshold values"
   ]
  },
  {
   "cell_type": "code",
   "execution_count": 24,
   "id": "2af6215b",
   "metadata": {},
   "outputs": [],
   "source": [
    "def f_thresh(x, probs, y_true):\n",
    "    yp = probs > x\n",
    "    yp = yp.astype(int)\n",
    "    f =  f1_score(y_true, yp)\n",
    "    return f\n",
    "thresh_vals = np.arange(0.1, 0.9, 0.01)\n",
    "f_vals = [f_thresh(y, probs = y_pred_proba, y_true = y_test) for y in thresh_vals]"
   ]
  },
  {
   "cell_type": "code",
   "execution_count": 25,
   "id": "f362f69e",
   "metadata": {},
   "outputs": [
    {
     "data": {
      "image/png": "[encoded data removed]",
      "text/plain": [
       "<Figure size 432x288 with 1 Axes>"
      ]
     },
     "metadata": {
      "needs_background": "light"
     },
     "output_type": "display_data"
    }
   ],
   "source": [
    "plt.scatter(x = thresh_vals, y=f_vals)\n",
    "plt.show()"
   ]
  },
  {
   "cell_type": "code",
   "execution_count": 26,
   "id": "5c4eba4a",
   "metadata": {},
   "outputs": [],
   "source": [
    "ind = f_vals.index(max(f_vals))"
   ]
  },
  {
   "cell_type": "markdown",
   "id": "f2d5b40d",
   "metadata": {},
   "source": [
    "We see that the optimal threshold comes out to be 0.33 which is very close to the one obtained using Random Forest"
   ]
  },
  {
   "cell_type": "code",
   "execution_count": 27,
   "id": "0f03f889",
   "metadata": {},
   "outputs": [
    {
     "name": "stdout",
     "output_type": "stream",
     "text": [
      "0.3999999999999998\n"
     ]
    }
   ],
   "source": [
    "opt_thresh = thresh_vals[ind]\n",
    "print(opt_thresh)"
   ]
  },
  {
   "cell_type": "markdown",
   "id": "7593c141",
   "metadata": {},
   "source": [
    "Using this threshold value we get the F-score on the test set to be around 0.80 and the accuracy to be around 0.856 which is lower than what we obtained using the Random Forest"
   ]
  },
  {
   "cell_type": "code",
   "execution_count": 37,
   "id": "71d7ca27",
   "metadata": {},
   "outputs": [
    {
     "name": "stdout",
     "output_type": "stream",
     "text": [
      "[[871 141]\n",
      " [103 440]]\n"
     ]
    },
    {
     "data": {
      "text/plain": [
       "0.7829181494661922"
      ]
     },
     "execution_count": 37,
     "metadata": {},
     "output_type": "execute_result"
    }
   ],
   "source": [
    "y_pred = y_pred_proba > opt_thresh\n",
    "print(confusion_matrix(y_pred = y_pred, y_true = y_test))\n",
    "f1_score(y_true = y_test, y_pred = y_pred)"
   ]
  },
  {
   "cell_type": "code",
   "execution_count": 29,
   "id": "087e437d",
   "metadata": {},
   "outputs": [
    {
     "data": {
      "text/plain": [
       "0.8430868167202572"
      ]
     },
     "execution_count": 29,
     "metadata": {},
     "output_type": "execute_result"
    }
   ],
   "source": [
    "accuracy_score(y_true = y_test, y_pred = y_pred)"
   ]
  },
  {
   "cell_type": "markdown",
   "id": "2a8299fc",
   "metadata": {},
   "source": [
    "Finally, the ROC is as follows"
   ]
  },
  {
   "cell_type": "code",
   "execution_count": 30,
   "id": "26c8dcdc",
   "metadata": {},
   "outputs": [
    {
     "data": {
      "text/plain": [
       "[<matplotlib.lines.Line2D at 0x1f907397400>]"
      ]
     },
     "execution_count": 30,
     "metadata": {},
     "output_type": "execute_result"
    },
    {
     "data": {
      "image/png": "[encoded data removed]",
      "text/plain": [
       "<Figure size 432x288 with 1 Axes>"
      ]
     },
     "metadata": {
      "needs_background": "light"
     },
     "output_type": "display_data"
    }
   ],
   "source": [
    "ns_probs = np.zeros(y_test.shape[0])\n",
    "ns_fpr, ns_tpr, _ = roc_curve(y_test, ns_probs)\n",
    "lr_fpr, lr_tpr, _ = roc_curve(y_test, y_pred_proba)\n",
    "plt.plot(ns_fpr, ns_tpr, linestyle='--')\n",
    "plt.plot(lr_fpr, lr_tpr, marker='.')"
   ]
  },
  {
   "cell_type": "markdown",
   "id": "2723edc2",
   "metadata": {},
   "source": [
    "and the AUC is around 0.926"
   ]
  },
  {
   "cell_type": "code",
   "execution_count": 31,
   "id": "503e4fcf",
   "metadata": {},
   "outputs": [
    {
     "data": {
      "text/plain": [
       "0.9187121030142889"
      ]
     },
     "execution_count": 31,
     "metadata": {},
     "output_type": "execute_result"
    }
   ],
   "source": [
    "roc_auc_score(y_test, y_pred_proba)"
   ]
  }
 ],
 "metadata": {
  "kernelspec": {
   "display_name": "Python 3 (ipykernel)",
   "language": "python",
   "name": "python3"
  },
  "language_info": {
   "codemirror_mode": {
    "name": "ipython",
    "version": 3
   },
   "file_extension": ".py",
   "mimetype": "text/x-python",
   "name": "python",
   "nbconvert_exporter": "python",
   "pygments_lexer": "ipython3",
   "version": "3.9.12"
  }
 },
 "nbformat": 4,
 "nbformat_minor": 5
}
