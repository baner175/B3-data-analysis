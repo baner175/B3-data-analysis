{
 "cells": [
  {
   "cell_type": "code",
   "execution_count": 1,
   "id": "475f41a6",
   "metadata": {},
   "outputs": [],
   "source": [
    "from sklearn.svm import SVC\n",
    "from sklearn.metrics import confusion_matrix, f1_score, roc_auc_score, accuracy_score, roc_curve\n",
    "from sklearn.model_selection import train_test_split, StratifiedKFold\n",
    "from sklearn.preprocessing import MinMaxScaler\n",
    "\n",
    "from tqdm import tqdm\n",
    "\n",
    "import pandas as pd\n",
    "import numpy as np\n",
    "import matplotlib.pyplot as plt"
   ]
  },
  {
   "cell_type": "code",
   "execution_count": 2,
   "id": "14331ea4",
   "metadata": {},
   "outputs": [
    {
     "name": "stdout",
     "output_type": "stream",
     "text": [
      "(6996, 1071)\n",
      "(779, 1071)\n"
     ]
    }
   ],
   "source": [
    "train_data = pd.read_csv('../Training Data.csv', low_memory = False)\n",
    "val_data = pd.read_csv('../Validation Data.csv', low_memory = False)\n",
    "print(train_data.shape)\n",
    "print(val_data.shape)"
   ]
  },
  {
   "cell_type": "code",
   "execution_count": 3,
   "id": "4e5e9d5b",
   "metadata": {},
   "outputs": [
    {
     "name": "stdout",
     "output_type": "stream",
     "text": [
      "(6996, 1070)\n",
      "(6996,)\n",
      "(779, 1070)\n",
      "(779,)\n"
     ]
    }
   ],
   "source": [
    "# X = np.array(data_full.drop(labels = 'y', axis = 1))\n",
    "X_train = np.array(train_data.drop(labels = 'y', axis = 1))\n",
    "X_test = np.array(val_data.drop(labels = 'y', axis = 1))\n",
    "y_train = train_data['y']\n",
    "y_test = val_data['y']\n",
    "y_train_binary = np.zeros(len(y_train))\n",
    "y_train_binary[y_train == 'BBB+'] = 1\n",
    "y_test_binary = np.zeros(len(y_test))\n",
    "y_test_binary[y_test == 'BBB+'] = 1\n",
    "\n",
    "print(X_train.shape)\n",
    "print(y_train_binary.shape)\n",
    "print(X_test.shape)\n",
    "print(y_test_binary.shape)"
   ]
  },
  {
   "cell_type": "code",
   "execution_count": 4,
   "id": "ee61f2eb",
   "metadata": {},
   "outputs": [
    {
     "name": "stdout",
     "output_type": "stream",
     "text": [
      "(6996, 1070)\n"
     ]
    }
   ],
   "source": [
    "mm = MinMaxScaler()\n",
    "mm.fit(X_train)\n",
    "Xs_train = mm.fit_transform(X_train)\n",
    "print(Xs_train.shape)"
   ]
  },
  {
   "cell_type": "code",
   "execution_count": 5,
   "id": "b1692cb5",
   "metadata": {},
   "outputs": [
    {
     "name": "stdout",
     "output_type": "stream",
     "text": [
      "(779, 1070)\n"
     ]
    }
   ],
   "source": [
    "mm.fit(X_test)\n",
    "Xs_test = mm.fit_transform(X_test)\n",
    "print(Xs_test.shape)"
   ]
  },
  {
   "cell_type": "code",
   "execution_count": 6,
   "id": "402a5296",
   "metadata": {},
   "outputs": [
    {
     "name": "stdout",
     "output_type": "stream",
     "text": [
      "0.634505431675243\n",
      "0.6341463414634146\n"
     ]
    }
   ],
   "source": [
    "print(y_train_binary.mean())\n",
    "print(y_test_binary.mean())"
   ]
  },
  {
   "cell_type": "code",
   "execution_count": 7,
   "id": "0f316d42",
   "metadata": {},
   "outputs": [
    {
     "data": {
      "text/html": [
       "<style>#sk-container-id-1 {color: black;background-color: white;}#sk-container-id-1 pre{padding: 0;}#sk-container-id-1 div.sk-toggleable {background-color: white;}#sk-container-id-1 label.sk-toggleable__label {cursor: pointer;display: block;width: 100%;margin-bottom: 0;padding: 0.3em;box-sizing: border-box;text-align: center;}#sk-container-id-1 label.sk-toggleable__label-arrow:before {content: \"▸\";float: left;margin-right: 0.25em;color: #696969;}#sk-container-id-1 label.sk-toggleable__label-arrow:hover:before {color: black;}#sk-container-id-1 div.sk-estimator:hover label.sk-toggleable__label-arrow:before {color: black;}#sk-container-id-1 div.sk-toggleable__content {max-height: 0;max-width: 0;overflow: hidden;text-align: left;background-color: #f0f8ff;}#sk-container-id-1 div.sk-toggleable__content pre {margin: 0.2em;color: black;border-radius: 0.25em;background-color: #f0f8ff;}#sk-container-id-1 input.sk-toggleable__control:checked~div.sk-toggleable__content {max-height: 200px;max-width: 100%;overflow: auto;}#sk-container-id-1 input.sk-toggleable__control:checked~label.sk-toggleable__label-arrow:before {content: \"▾\";}#sk-container-id-1 div.sk-estimator input.sk-toggleable__control:checked~label.sk-toggleable__label {background-color: #d4ebff;}#sk-container-id-1 div.sk-label input.sk-toggleable__control:checked~label.sk-toggleable__label {background-color: #d4ebff;}#sk-container-id-1 input.sk-hidden--visually {border: 0;clip: rect(1px 1px 1px 1px);clip: rect(1px, 1px, 1px, 1px);height: 1px;margin: -1px;overflow: hidden;padding: 0;position: absolute;width: 1px;}#sk-container-id-1 div.sk-estimator {font-family: monospace;background-color: #f0f8ff;border: 1px dotted black;border-radius: 0.25em;box-sizing: border-box;margin-bottom: 0.5em;}#sk-container-id-1 div.sk-estimator:hover {background-color: #d4ebff;}#sk-container-id-1 div.sk-parallel-item::after {content: \"\";width: 100%;border-bottom: 1px solid gray;flex-grow: 1;}#sk-container-id-1 div.sk-label:hover label.sk-toggleable__label {background-color: #d4ebff;}#sk-container-id-1 div.sk-serial::before {content: \"\";position: absolute;border-left: 1px solid gray;box-sizing: border-box;top: 0;bottom: 0;left: 50%;z-index: 0;}#sk-container-id-1 div.sk-serial {display: flex;flex-direction: column;align-items: center;background-color: white;padding-right: 0.2em;padding-left: 0.2em;position: relative;}#sk-container-id-1 div.sk-item {position: relative;z-index: 1;}#sk-container-id-1 div.sk-parallel {display: flex;align-items: stretch;justify-content: center;background-color: white;position: relative;}#sk-container-id-1 div.sk-item::before, #sk-container-id-1 div.sk-parallel-item::before {content: \"\";position: absolute;border-left: 1px solid gray;box-sizing: border-box;top: 0;bottom: 0;left: 50%;z-index: -1;}#sk-container-id-1 div.sk-parallel-item {display: flex;flex-direction: column;z-index: 1;position: relative;background-color: white;}#sk-container-id-1 div.sk-parallel-item:first-child::after {align-self: flex-end;width: 50%;}#sk-container-id-1 div.sk-parallel-item:last-child::after {align-self: flex-start;width: 50%;}#sk-container-id-1 div.sk-parallel-item:only-child::after {width: 0;}#sk-container-id-1 div.sk-dashed-wrapped {border: 1px dashed gray;margin: 0 0.4em 0.5em 0.4em;box-sizing: border-box;padding-bottom: 0.4em;background-color: white;}#sk-container-id-1 div.sk-label label {font-family: monospace;font-weight: bold;display: inline-block;line-height: 1.2em;}#sk-container-id-1 div.sk-label-container {text-align: center;}#sk-container-id-1 div.sk-container {/* jupyter's `normalize.less` sets `[hidden] { display: none; }` but bootstrap.min.css set `[hidden] { display: none !important; }` so we also need the `!important` here to be able to override the default hidden behavior on the sphinx rendered scikit-learn.org. See: https://github.com/scikit-learn/scikit-learn/issues/21755 */display: inline-block !important;position: relative;}#sk-container-id-1 div.sk-text-repr-fallback {display: none;}</style><div id=\"sk-container-id-1\" class=\"sk-top-container\"><div class=\"sk-text-repr-fallback\"><pre>SVC(kernel=&#x27;linear&#x27;, probability=True)</pre><b>In a Jupyter environment, please rerun this cell to show the HTML representation or trust the notebook. <br />On GitHub, the HTML representation is unable to render, please try loading this page with nbviewer.org.</b></div><div class=\"sk-container\" hidden><div class=\"sk-item\"><div class=\"sk-estimator sk-toggleable\"><input class=\"sk-toggleable__control sk-hidden--visually\" id=\"sk-estimator-id-1\" type=\"checkbox\" checked><label for=\"sk-estimator-id-1\" class=\"sk-toggleable__label sk-toggleable__label-arrow\">SVC</label><div class=\"sk-toggleable__content\"><pre>SVC(kernel=&#x27;linear&#x27;, probability=True)</pre></div></div></div></div></div>"
      ],
      "text/plain": [
       "SVC(kernel='linear', probability=True)"
      ]
     },
     "execution_count": 7,
     "metadata": {},
     "output_type": "execute_result"
    }
   ],
   "source": [
    "svm_lin = SVC(kernel='linear', probability=True)\n",
    "svm_lin.fit(Xs_train, y_train_binary)"
   ]
  },
  {
   "cell_type": "code",
   "execution_count": 8,
   "id": "a9077a27",
   "metadata": {},
   "outputs": [],
   "source": [
    "thresh = 0.3\n",
    "y_probs = svm_lin.predict_proba(Xs_test)\n",
    "# y_preds = svm_lin.predict(Xs_test)\n",
    "y_preds = np.where(y_probs[:,1]>thresh,1,0)"
   ]
  },
  {
   "cell_type": "code",
   "execution_count": 9,
   "id": "bd6e608e",
   "metadata": {},
   "outputs": [
    {
     "data": {
      "text/plain": [
       "array([[0.77944243, 0.22055757],\n",
       "       [0.62767445, 0.37232555],\n",
       "       [0.17974491, 0.82025509],\n",
       "       ...,\n",
       "       [0.90629981, 0.09370019],\n",
       "       [0.89820297, 0.10179703],\n",
       "       [0.75406431, 0.24593569]])"
      ]
     },
     "execution_count": 9,
     "metadata": {},
     "output_type": "execute_result"
    }
   ],
   "source": [
    "y_probs"
   ]
  },
  {
   "cell_type": "code",
   "execution_count": 10,
   "id": "d1cd1de8",
   "metadata": {},
   "outputs": [
    {
     "data": {
      "text/plain": [
       "0.8664955070603337"
      ]
     },
     "execution_count": 10,
     "metadata": {},
     "output_type": "execute_result"
    }
   ],
   "source": [
    "accuracy_score(y_test_binary, y_preds)"
   ]
  },
  {
   "cell_type": "code",
   "execution_count": 11,
   "id": "9ee98f96",
   "metadata": {},
   "outputs": [
    {
     "name": "stdout",
     "output_type": "stream",
     "text": [
      "[[218  67]\n",
      " [ 37 457]]\n"
     ]
    }
   ],
   "source": [
    "cm = confusion_matrix(y_test_binary, y_preds)\n",
    "print(cm)"
   ]
  },
  {
   "cell_type": "code",
   "execution_count": 12,
   "id": "5f4cd899",
   "metadata": {},
   "outputs": [
    {
     "name": "stdout",
     "output_type": "stream",
     "text": [
      "TP:457\n",
      "FN:37\n",
      "FP:67\n",
      "TN:218\n"
     ]
    }
   ],
   "source": [
    "tp_own = np.sum(np.logical_and(y_test_binary == 1, y_preds == 1).astype(int))\n",
    "fp_own = np.sum(np.logical_and(y_test_binary == 0, y_preds == 1).astype(int))\n",
    "fn_own = np.sum(np.logical_and(y_test_binary == 1, y_preds == 0).astype(int))\n",
    "tn_own = np.sum(np.logical_and(y_test_binary == 0, y_preds == 0).astype(int))\n",
    "print('TP:{}'.format(tp_own))\n",
    "print('FN:{}'.format(fn_own))\n",
    "print('FP:{}'.format(fp_own))\n",
    "print('TN:{}'.format(tn_own))"
   ]
  },
  {
   "cell_type": "code",
   "execution_count": 13,
   "id": "a8a251ef",
   "metadata": {},
   "outputs": [
    {
     "name": "stdout",
     "output_type": "stream",
     "text": [
      "TP:457\n",
      "FN:37\n",
      "FP:67\n",
      "TN:218\n"
     ]
    }
   ],
   "source": [
    "tn,fp,fn,tp = cm.ravel()\n",
    "print('TP:{}'.format(tp))\n",
    "print('FN:{}'.format(fn))\n",
    "print('FP:{}'.format(fp))\n",
    "print('TN:{}'.format(tn))"
   ]
  },
  {
   "cell_type": "code",
   "execution_count": 14,
   "id": "09cdb3e4",
   "metadata": {},
   "outputs": [
    {
     "name": "stdout",
     "output_type": "stream",
     "text": [
      "0.9251012145748988\n",
      "0.23508771929824562\n"
     ]
    }
   ],
   "source": [
    "print(tp/(tp+fn))\n",
    "print(fp/(fp+tn))"
   ]
  },
  {
   "cell_type": "code",
   "execution_count": 15,
   "id": "bdc3b89d",
   "metadata": {},
   "outputs": [
    {
     "data": {
      "text/plain": [
       "array([0., 1.])"
      ]
     },
     "execution_count": 15,
     "metadata": {},
     "output_type": "execute_result"
    }
   ],
   "source": [
    "svm_lin.classes_"
   ]
  },
  {
   "cell_type": "code",
   "execution_count": 68,
   "id": "a5fa2e23",
   "metadata": {},
   "outputs": [
    {
     "name": "stderr",
     "output_type": "stream",
     "text": [
      "5it [04:47, 57.45s/it]\n"
     ]
    }
   ],
   "source": [
    "rs = 42\n",
    "thresh = 0.3\n",
    "skf = StratifiedKFold(n_splits = 5, shuffle = True, random_state=rs)\n",
    "f = []\n",
    "tpr= []\n",
    "fpr = []\n",
    "for train_id, test_id in tqdm(skf.split(Xs_train, y_train_binary)):\n",
    "    Xs_train_k, Xs_test_k = Xs_train[train_id], Xs_train[test_id]\n",
    "    y_train_k, y_test_k = y_train_binary[train_id], y_train_binary[test_id]\n",
    "    \n",
    "    svm_lin.fit(Xs_train_k, y_train_k)\n",
    "    probs = svm_lin.predict_proba(Xs_test_k)\n",
    "    y_pred = np.where(probs[:,1] > thresh, 1, 0)\n",
    "    f.append(f1_score(y_test_k, y_pred))\n",
    "    tn,fp,fn,tp = confusion_matrix(y_test_k, y_pred).ravel()\n",
    "    tpr.append(tp/(tp+fn))\n",
    "    fpr.append(fp/(fp+tn))\n",
    "f = np.array(f)"
   ]
  },
  {
   "cell_type": "code",
   "execution_count": 69,
   "id": "61881eab",
   "metadata": {},
   "outputs": [
    {
     "data": {
      "text/plain": [
       "array([0.8865656 , 0.89014374, 0.87905301, 0.88682171, 0.89015544])"
      ]
     },
     "execution_count": 69,
     "metadata": {},
     "output_type": "execute_result"
    }
   ],
   "source": [
    "f"
   ]
  },
  {
   "cell_type": "code",
   "execution_count": 70,
   "id": "363fb2a3",
   "metadata": {},
   "outputs": [
    {
     "data": {
      "text/plain": [
       "0.8865478995157879"
      ]
     },
     "execution_count": 70,
     "metadata": {},
     "output_type": "execute_result"
    }
   ],
   "source": [
    "f.mean()"
   ]
  },
  {
   "cell_type": "code",
   "execution_count": 71,
   "id": "c134a97f",
   "metadata": {},
   "outputs": [
    {
     "name": "stdout",
     "output_type": "stream",
     "text": [
      "[0.954954954954955, 0.9763513513513513, 0.9617117117117117, 0.9662162162162162, 0.9684329199549042]\n"
     ]
    }
   ],
   "source": [
    "print(tpr)"
   ]
  },
  {
   "cell_type": "code",
   "execution_count": 72,
   "id": "d0a4409f",
   "metadata": {},
   "outputs": [
    {
     "name": "stdout",
     "output_type": "stream",
     "text": [
      "[0.345703125, 0.3776908023483366, 0.3933463796477495, 0.3698630136986301, 0.359375]\n"
     ]
    }
   ],
   "source": [
    "print(fpr)"
   ]
  },
  {
   "cell_type": "code",
   "execution_count": 18,
   "id": "3d688792",
   "metadata": {},
   "outputs": [
    {
     "name": "stdout",
     "output_type": "stream",
     "text": [
      "11\n"
     ]
    }
   ],
   "source": [
    "res = np.array([f.mean()]+fpr+tpr)\n",
    "print(len(res))"
   ]
  },
  {
   "cell_type": "code",
   "execution_count": 16,
   "id": "25ed797e",
   "metadata": {},
   "outputs": [],
   "source": [
    "rs = 42\n",
    "def f_kcv(thresh):\n",
    "    skf = StratifiedKFold(n_splits = 5, shuffle = True, random_state=rs)\n",
    "    f = []\n",
    "    tpr = []\n",
    "    fpr = []\n",
    "    print('Computing f_score for threshold:{}'.format(thresh))\n",
    "    for train_id, test_id in tqdm(skf.split(Xs_train, y_train_binary)):\n",
    "        Xs_train_k, Xs_test_k = Xs_train[train_id], Xs_train[test_id]\n",
    "        y_train_k, y_test_k = y_train_binary[train_id], y_train_binary[test_id]\n",
    "\n",
    "        svm_lin.fit(Xs_train_k, y_train_k)\n",
    "        probs = svm_lin.predict_proba(Xs_test_k)\n",
    "        y_pred = np.where(probs[:,1] > thresh, 1, 0)\n",
    "        f.append(f1_score(y_test_k, y_pred))\n",
    "        tn,fp,fn,tp = confusion_matrix(y_test_k, y_pred).ravel()\n",
    "        tpr.append(tp/(tp+fn))\n",
    "        fpr.append(fp/(fp+tn))\n",
    "    f = np.array(f)\n",
    "    return np.array([f.mean()] + fpr + tpr)"
   ]
  },
  {
   "cell_type": "code",
   "execution_count": 74,
   "id": "be1cb13b",
   "metadata": {},
   "outputs": [
    {
     "name": "stdout",
     "output_type": "stream",
     "text": [
      "Computing f_score for threshold:0.3\n"
     ]
    },
    {
     "name": "stderr",
     "output_type": "stream",
     "text": [
      "5it [05:10, 62.14s/it]\n"
     ]
    },
    {
     "data": {
      "text/plain": [
       "array([0.88673202, 0.33984375, 0.3776908 , 0.39334638, 0.36986301,\n",
       "       0.36132812, 0.95382883, 0.97635135, 0.96058559, 0.96621622,\n",
       "       0.97068771])"
      ]
     },
     "execution_count": 74,
     "metadata": {},
     "output_type": "execute_result"
    }
   ],
   "source": [
    "f_kcv(0.3)"
   ]
  },
  {
   "cell_type": "code",
   "execution_count": 19,
   "id": "6efa1447",
   "metadata": {},
   "outputs": [
    {
     "name": "stdout",
     "output_type": "stream",
     "text": [
      "18\n",
      "[0.1  0.15 0.2  0.25 0.3  0.35 0.4  0.45 0.5  0.55 0.6  0.65 0.7  0.75\n",
      " 0.8  0.85 0.9  0.95]\n"
     ]
    }
   ],
   "source": [
    "thresh_vals = np.arange(0.1, 1,0.05)\n",
    "print(len(thresh_vals))\n",
    "print(thresh_vals)"
   ]
  },
  {
   "cell_type": "code",
   "execution_count": 20,
   "id": "744dc095",
   "metadata": {},
   "outputs": [
    {
     "name": "stdout",
     "output_type": "stream",
     "text": [
      "Computing f_score for threshold:0.1\n"
     ]
    },
    {
     "name": "stderr",
     "output_type": "stream",
     "text": [
      "5it [04:51, 58.38s/it]\n"
     ]
    },
    {
     "name": "stdout",
     "output_type": "stream",
     "text": [
      "Computing f_score for threshold:0.15000000000000002\n"
     ]
    },
    {
     "name": "stderr",
     "output_type": "stream",
     "text": [
      "5it [05:12, 62.58s/it]\n"
     ]
    },
    {
     "name": "stdout",
     "output_type": "stream",
     "text": [
      "Computing f_score for threshold:0.20000000000000004\n"
     ]
    },
    {
     "name": "stderr",
     "output_type": "stream",
     "text": [
      "5it [04:50, 58.03s/it]\n"
     ]
    },
    {
     "name": "stdout",
     "output_type": "stream",
     "text": [
      "Computing f_score for threshold:0.25000000000000006\n"
     ]
    },
    {
     "name": "stderr",
     "output_type": "stream",
     "text": [
      "5it [03:23, 40.74s/it]\n"
     ]
    },
    {
     "name": "stdout",
     "output_type": "stream",
     "text": [
      "Computing f_score for threshold:0.30000000000000004\n"
     ]
    },
    {
     "name": "stderr",
     "output_type": "stream",
     "text": [
      "5it [03:22, 40.57s/it]\n"
     ]
    },
    {
     "name": "stdout",
     "output_type": "stream",
     "text": [
      "Computing f_score for threshold:0.3500000000000001\n"
     ]
    },
    {
     "name": "stderr",
     "output_type": "stream",
     "text": [
      "5it [03:33, 42.68s/it]\n"
     ]
    },
    {
     "name": "stdout",
     "output_type": "stream",
     "text": [
      "Computing f_score for threshold:0.40000000000000013\n"
     ]
    },
    {
     "name": "stderr",
     "output_type": "stream",
     "text": [
      "5it [03:29, 41.96s/it]\n"
     ]
    },
    {
     "name": "stdout",
     "output_type": "stream",
     "text": [
      "Computing f_score for threshold:0.45000000000000007\n"
     ]
    },
    {
     "name": "stderr",
     "output_type": "stream",
     "text": [
      "5it [03:22, 40.49s/it]\n"
     ]
    },
    {
     "name": "stdout",
     "output_type": "stream",
     "text": [
      "Computing f_score for threshold:0.5000000000000001\n"
     ]
    },
    {
     "name": "stderr",
     "output_type": "stream",
     "text": [
      "5it [03:28, 41.68s/it]\n"
     ]
    },
    {
     "name": "stdout",
     "output_type": "stream",
     "text": [
      "Computing f_score for threshold:0.5500000000000002\n"
     ]
    },
    {
     "name": "stderr",
     "output_type": "stream",
     "text": [
      "5it [03:12, 38.44s/it]\n"
     ]
    },
    {
     "name": "stdout",
     "output_type": "stream",
     "text": [
      "Computing f_score for threshold:0.6000000000000002\n"
     ]
    },
    {
     "name": "stderr",
     "output_type": "stream",
     "text": [
      "5it [03:13, 38.74s/it]\n"
     ]
    },
    {
     "name": "stdout",
     "output_type": "stream",
     "text": [
      "Computing f_score for threshold:0.6500000000000001\n"
     ]
    },
    {
     "name": "stderr",
     "output_type": "stream",
     "text": [
      "5it [03:12, 38.56s/it]\n"
     ]
    },
    {
     "name": "stdout",
     "output_type": "stream",
     "text": [
      "Computing f_score for threshold:0.7000000000000002\n"
     ]
    },
    {
     "name": "stderr",
     "output_type": "stream",
     "text": [
      "5it [03:22, 40.49s/it]\n"
     ]
    },
    {
     "name": "stdout",
     "output_type": "stream",
     "text": [
      "Computing f_score for threshold:0.7500000000000002\n"
     ]
    },
    {
     "name": "stderr",
     "output_type": "stream",
     "text": [
      "5it [03:27, 41.47s/it]\n"
     ]
    },
    {
     "name": "stdout",
     "output_type": "stream",
     "text": [
      "Computing f_score for threshold:0.8000000000000002\n"
     ]
    },
    {
     "name": "stderr",
     "output_type": "stream",
     "text": [
      "5it [03:54, 46.99s/it]\n"
     ]
    },
    {
     "name": "stdout",
     "output_type": "stream",
     "text": [
      "Computing f_score for threshold:0.8500000000000002\n"
     ]
    },
    {
     "name": "stderr",
     "output_type": "stream",
     "text": [
      "5it [04:06, 49.36s/it]\n"
     ]
    },
    {
     "name": "stdout",
     "output_type": "stream",
     "text": [
      "Computing f_score for threshold:0.9000000000000002\n"
     ]
    },
    {
     "name": "stderr",
     "output_type": "stream",
     "text": [
      "5it [04:50, 58.17s/it]\n"
     ]
    },
    {
     "name": "stdout",
     "output_type": "stream",
     "text": [
      "Computing f_score for threshold:0.9500000000000003\n"
     ]
    },
    {
     "name": "stderr",
     "output_type": "stream",
     "text": [
      "5it [04:13, 50.71s/it]\n"
     ]
    }
   ],
   "source": [
    "res = [f_kcv(t) for t in thresh_vals]"
   ]
  },
  {
   "cell_type": "code",
   "execution_count": 21,
   "id": "eff1fb5d",
   "metadata": {},
   "outputs": [
    {
     "name": "stdout",
     "output_type": "stream",
     "text": [
      "(18, 11)\n"
     ]
    }
   ],
   "source": [
    "res = np.array(res)\n",
    "print(res.shape)"
   ]
  },
  {
   "cell_type": "code",
   "execution_count": 22,
   "id": "54e51acb",
   "metadata": {},
   "outputs": [
    {
     "data": {
      "text/plain": [
       "[<matplotlib.lines.Line2D at 0x25481f69580>]"
      ]
     },
     "execution_count": 22,
     "metadata": {},
     "output_type": "execute_result"
    },
    {
     "data": {
      "image/png": "[encoded data removed]",
      "text/plain": [
       "<Figure size 576x720 with 1 Axes>"
      ]
     },
     "metadata": {
      "needs_background": "light"
     },
     "output_type": "display_data"
    }
   ],
   "source": [
    "f_vec = res[:,0]\n",
    "fig, axs = plt.subplots(nrows=1, ncols = 1, figsize = (8,10))\n",
    "axs.plot(thresh_vals, f_vec)"
   ]
  },
  {
   "cell_type": "code",
   "execution_count": 23,
   "id": "6e291ea1",
   "metadata": {},
   "outputs": [
    {
     "data": {
      "text/plain": [
       "array([0.84916595, 0.86684288, 0.87983466, 0.88368922, 0.88682061,\n",
       "       0.8876763 , 0.88963258, 0.88753636, 0.88895235, 0.8869485 ,\n",
       "       0.88593229, 0.88179237, 0.87239304, 0.86183166, 0.83536239,\n",
       "       0.74795373, 0.63760911, 0.41262716])"
      ]
     },
     "execution_count": 23,
     "metadata": {},
     "output_type": "execute_result"
    }
   ],
   "source": [
    "f_vec"
   ]
  },
  {
   "cell_type": "code",
   "execution_count": 28,
   "id": "85824719",
   "metadata": {},
   "outputs": [
    {
     "data": {
      "text/plain": [
       "(array([6], dtype=int64),)"
      ]
     },
     "execution_count": 28,
     "metadata": {},
     "output_type": "execute_result"
    }
   ],
   "source": [
    "np.where(f_vec == np.max(f_vec))"
   ]
  },
  {
   "cell_type": "code",
   "execution_count": 29,
   "id": "c6222027",
   "metadata": {},
   "outputs": [
    {
     "data": {
      "text/plain": [
       "0.40000000000000013"
      ]
     },
     "execution_count": 29,
     "metadata": {},
     "output_type": "execute_result"
    }
   ],
   "source": [
    "thresh_vals[6]"
   ]
  },
  {
   "cell_type": "code",
   "execution_count": 32,
   "id": "a3fec377",
   "metadata": {},
   "outputs": [
    {
     "data": {
      "text/plain": [
       "array([1, 2, 3, 4, 5])"
      ]
     },
     "execution_count": 32,
     "metadata": {},
     "output_type": "execute_result"
    }
   ],
   "source": [
    "np.arange(1,6)"
   ]
  },
  {
   "cell_type": "code",
   "execution_count": 33,
   "id": "5c253c3f",
   "metadata": {},
   "outputs": [
    {
     "data": {
      "text/plain": [
       "[<matplotlib.lines.Line2D at 0x2548d8229a0>]"
      ]
     },
     "execution_count": 33,
     "metadata": {},
     "output_type": "execute_result"
    },
    {
     "data": {
      "image/png": "[encoded data removed]",
      "text/plain": [
       "<Figure size 648x720 with 1 Axes>"
      ]
     },
     "metadata": {
      "needs_background": "light"
     },
     "output_type": "display_data"
    }
   ],
   "source": [
    "fig, axs = plt.subplots(nrows=1, ncols = 1, figsize = (9,10))\n",
    "xs = np.arange(0,0.61,0.01)\n",
    "for i in np.arange(1,5):\n",
    "    axs.plot(res[:,i], res[:,i+5], color = 'b')\n",
    "axs.plot(xs,xs,color = 'y', linestyle = '--')"
   ]
  },
  {
   "cell_type": "code",
   "execution_count": 34,
   "id": "4eeb6ef9",
   "metadata": {},
   "outputs": [
    {
     "ename": "TypeError",
     "evalue": "roc_curve() got an unexpected keyword argument 'fpr'",
     "output_type": "error",
     "traceback": [
      "\u001b[1;31m---------------------------------------------------------------------------\u001b[0m",
      "\u001b[1;31mTypeError\u001b[0m                                 Traceback (most recent call last)",
      "Input \u001b[1;32mIn [34]\u001b[0m, in \u001b[0;36m<cell line: 1>\u001b[1;34m()\u001b[0m\n\u001b[1;32m----> 1\u001b[0m fpr_, tpr_, _ \u001b[38;5;241m=\u001b[39m \u001b[43mroc_curve\u001b[49m\u001b[43m(\u001b[49m\u001b[43my_true\u001b[49m\u001b[38;5;241;43m=\u001b[39;49m\u001b[38;5;28;43;01mNone\u001b[39;49;00m\u001b[43m,\u001b[49m\u001b[43m \u001b[49m\u001b[43my_score\u001b[49m\u001b[38;5;241;43m=\u001b[39;49m\u001b[38;5;28;43;01mNone\u001b[39;49;00m\u001b[43m,\u001b[49m\u001b[43m \u001b[49m\u001b[43mpos_label\u001b[49m\u001b[38;5;241;43m=\u001b[39;49m\u001b[38;5;28;43;01mNone\u001b[39;49;00m\u001b[43m,\u001b[49m\u001b[43m \u001b[49m\u001b[43mfpr\u001b[49m\u001b[38;5;241;43m=\u001b[39;49m\u001b[43mres\u001b[49m\u001b[43m[\u001b[49m\u001b[43m:\u001b[49m\u001b[43m,\u001b[49m\u001b[38;5;241;43m1\u001b[39;49m\u001b[43m]\u001b[49m\u001b[43m,\u001b[49m\u001b[43m \u001b[49m\u001b[43mtpr\u001b[49m\u001b[38;5;241;43m=\u001b[39;49m\u001b[43mres\u001b[49m\u001b[43m[\u001b[49m\u001b[43m:\u001b[49m\u001b[43m,\u001b[49m\u001b[38;5;241;43m6\u001b[39;49m\u001b[43m]\u001b[49m\u001b[43m)\u001b[49m\n\u001b[0;32m      3\u001b[0m \u001b[38;5;66;03m# Plot the ROC curve\u001b[39;00m\n\u001b[0;32m      4\u001b[0m plt\u001b[38;5;241m.\u001b[39mplot(fpr_, tpr_, \u001b[38;5;124m'\u001b[39m\u001b[38;5;124mb-\u001b[39m\u001b[38;5;124m'\u001b[39m, label\u001b[38;5;241m=\u001b[39m\u001b[38;5;124m'\u001b[39m\u001b[38;5;124mApproximate ROC curve\u001b[39m\u001b[38;5;124m'\u001b[39m)\n",
      "\u001b[1;31mTypeError\u001b[0m: roc_curve() got an unexpected keyword argument 'fpr'"
     ]
    }
   ],
   "source": [
    "fpr_, tpr_, _ = roc_curve(y_true=None, y_score=None, pos_label=None, fpr=res[:,1], tpr=res[:,6])\n",
    "\n",
    "# Plot the ROC curve\n",
    "plt.plot(fpr_, tpr_, 'b-', label='Approximate ROC curve')\n",
    "plt.plot([0, 1], [0, 1], 'r--', label='Random classifier')\n",
    "plt.xlabel('False Positive Rate')\n",
    "plt.ylabel('True Positive Rate')\n",
    "plt.legend(loc='lower right')\n",
    "plt.show()"
   ]
  }
 ],
 "metadata": {
  "kernelspec": {
   "display_name": "Python 3 (ipykernel)",
   "language": "python",
   "name": "python3"
  },
  "language_info": {
   "codemirror_mode": {
    "name": "ipython",
    "version": 3
   },
   "file_extension": ".py",
   "mimetype": "text/x-python",
   "name": "python",
   "nbconvert_exporter": "python",
   "pygments_lexer": "ipython3",
   "version": "3.9.12"
  }
 },
 "nbformat": 4,
 "nbformat_minor": 5
}
