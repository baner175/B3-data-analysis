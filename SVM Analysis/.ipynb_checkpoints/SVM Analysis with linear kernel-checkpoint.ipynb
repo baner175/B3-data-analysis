{
 "cells": [
  {
   "cell_type": "code",
   "execution_count": 53,
   "id": "475f41a6",
   "metadata": {},
   "outputs": [],
   "source": [
    "from sklearn.svm import SVC\n",
    "from sklearn.metrics import confusion_matrix, f1_score, roc_auc_score, accuracy_score, roc_curve\n",
    "from sklearn.model_selection import train_test_split, StratifiedKFold\n",
    "from sklearn.preprocessing import MinMaxScaler\n",
    "\n",
    "from tqdm import tqdm\n",
    "\n",
    "import pandas as pd\n",
    "import numpy as np"
   ]
  },
  {
   "cell_type": "code",
   "execution_count": 54,
   "id": "14331ea4",
   "metadata": {},
   "outputs": [
    {
     "name": "stdout",
     "output_type": "stream",
     "text": [
      "(7775, 1190)\n"
     ]
    }
   ],
   "source": [
    "data_full = pd.read_csv('../B3_working.csv', low_memory = False)\n",
    "print(data_full.shape)"
   ]
  },
  {
   "cell_type": "code",
   "execution_count": 55,
   "id": "4e5e9d5b",
   "metadata": {},
   "outputs": [
    {
     "name": "stdout",
     "output_type": "stream",
     "text": [
      "(7775, 1189)\n",
      "(7775,)\n"
     ]
    }
   ],
   "source": [
    "X = np.array(data_full.drop(labels = 'y', axis = 1))\n",
    "y = data_full['y']\n",
    "y_binary = np.zeros(len(y))\n",
    "y_binary[y == 'BBB+'] = 1\n",
    "print(X.shape)\n",
    "print(y.shape)"
   ]
  },
  {
   "cell_type": "code",
   "execution_count": 56,
   "id": "ee61f2eb",
   "metadata": {},
   "outputs": [
    {
     "name": "stdout",
     "output_type": "stream",
     "text": [
      "(7775, 1189)\n"
     ]
    }
   ],
   "source": [
    "mm = MinMaxScaler()\n",
    "mm.fit(X)\n",
    "Xs = mm.fit_transform(X)\n",
    "print(Xs.shape)"
   ]
  },
  {
   "cell_type": "code",
   "execution_count": 57,
   "id": "766e6187",
   "metadata": {},
   "outputs": [
    {
     "name": "stdout",
     "output_type": "stream",
     "text": [
      "(6997, 1189)\n",
      "(6997,)\n",
      "(778, 1189)\n",
      "(778,)\n"
     ]
    }
   ],
   "source": [
    "rs = 42\n",
    "X_train, X_test, y_train, y_test = train_test_split(Xs, y_binary, stratify=y_binary, train_size=0.9, random_state=rs)\n",
    "print(X_train.shape)\n",
    "print(y_train.shape)\n",
    "print(X_test.shape)\n",
    "print(y_test.shape)"
   ]
  },
  {
   "cell_type": "code",
   "execution_count": 58,
   "id": "402a5296",
   "metadata": {},
   "outputs": [
    {
     "name": "stdout",
     "output_type": "stream",
     "text": [
      "0.6344147491782193\n",
      "0.6349614395886889\n"
     ]
    }
   ],
   "source": [
    "print(y_train.mean())\n",
    "print(y_test.mean())"
   ]
  },
  {
   "cell_type": "code",
   "execution_count": 59,
   "id": "0f316d42",
   "metadata": {},
   "outputs": [
    {
     "data": {
      "text/plain": [
       "SVC(kernel='linear', probability=True)"
      ]
     },
     "execution_count": 59,
     "metadata": {},
     "output_type": "execute_result"
    }
   ],
   "source": [
    "svm_lin = SVC(kernel='linear', probability=True)\n",
    "svm_lin.fit(X_train, y_train)"
   ]
  },
  {
   "cell_type": "code",
   "execution_count": 60,
   "id": "a9077a27",
   "metadata": {},
   "outputs": [],
   "source": [
    "y_probs = svm_lin.predict_proba(X_test)\n",
    "y_preds = svm_lin.predict(X_test)"
   ]
  },
  {
   "cell_type": "code",
   "execution_count": 61,
   "id": "32c15a88",
   "metadata": {},
   "outputs": [
    {
     "name": "stdout",
     "output_type": "stream",
     "text": [
      "[0. 0. 1. 1. 1. 1. 0. 1. 1. 1. 0. 1. 0. 0. 1. 1. 1. 1. 0. 1. 1. 1. 1. 1.\n",
      " 0. 1. 0. 1. 0. 1. 1. 1. 1. 0. 1. 0. 1. 1. 1. 1. 1. 1. 1. 1. 0. 1. 1. 0.\n",
      " 0. 1. 0. 1. 1. 1. 1. 0. 0. 1. 1. 0. 1. 1. 1. 0. 1. 1. 1. 1. 1. 1. 1. 1.\n",
      " 1. 0. 1. 0. 1. 0. 1. 0. 0. 1. 1. 0. 1. 1. 1. 1. 0. 0. 0. 0. 1. 0. 1. 0.\n",
      " 1. 1. 1. 1. 1. 0. 1. 1. 0. 0. 1. 1. 0. 1. 0. 1. 1. 1. 0. 1. 1. 1. 1. 1.\n",
      " 0. 1. 0. 0. 0. 1. 0. 1. 1. 1. 0. 1. 1. 0. 1. 1. 1. 1. 1. 1. 0. 1. 0. 1.\n",
      " 1. 0. 0. 1. 0. 0. 0. 1. 1. 1. 0. 0. 0. 1. 1. 0. 0. 1. 1. 0. 1. 0. 1. 1.\n",
      " 1. 1. 0. 1. 1. 0. 1. 0. 1. 1. 0. 0. 1. 0. 0. 1. 1. 1. 1. 1. 1. 0. 0. 0.\n",
      " 1. 1. 1. 1. 0. 0. 1. 1. 1. 1. 1. 0. 1. 0. 1. 1. 0. 0. 1. 0. 1. 1. 1. 0.\n",
      " 0. 1. 0. 1. 1. 1. 1. 1. 1. 1. 0. 1. 1. 1. 1. 1. 1. 1. 1. 1. 0. 1. 1. 1.\n",
      " 1. 0. 0. 1. 1. 1. 0. 1. 1. 1. 1. 0. 1. 1. 0. 1. 1. 1. 1. 1. 0. 0. 1. 0.\n",
      " 1. 1. 1. 0. 1. 1. 1. 0. 1. 1. 1. 0. 1. 1. 1. 1. 1. 0. 1. 1. 1. 1. 1. 1.\n",
      " 1. 1. 1. 0. 0. 0. 1. 0. 1. 0. 1. 1. 0. 0. 1. 1. 1. 0. 1. 1. 1. 1. 1. 1.\n",
      " 1. 1. 1. 1. 1. 1. 0. 1. 1. 0. 1. 1. 1. 1. 1. 0. 0. 1. 1. 0. 1. 0. 1. 1.\n",
      " 1. 1. 0. 1. 1. 1. 1. 1. 1. 1. 1. 0. 1. 1. 1. 0. 1. 0. 1. 1. 1. 1. 1. 0.\n",
      " 0. 1. 1. 1. 0. 1. 1. 1. 1. 0. 1. 1. 1. 1. 1. 1. 1. 1. 0. 0. 1. 1. 1. 1.\n",
      " 1. 0. 1. 0. 1. 0. 0. 0. 0. 0. 1. 0. 1. 0. 1. 1. 0. 1. 0. 1. 1. 1. 1. 1.\n",
      " 0. 1. 0. 0. 0. 1. 0. 0. 1. 1. 1. 1. 0. 1. 0. 1. 1. 1. 1. 1. 1. 1. 1. 0.\n",
      " 1. 1. 1. 0. 1. 0. 1. 1. 1. 1. 1. 1. 0. 1. 1. 1. 1. 1. 0. 0. 1. 1. 0. 1.\n",
      " 1. 0. 0. 1. 1. 0. 1. 1. 1. 0. 0. 1. 0. 0. 1. 1. 1. 1. 1. 0. 1. 1. 0. 1.\n",
      " 0. 1. 1. 1. 1. 1. 1. 1. 1. 0. 0. 0. 1. 0. 1. 0. 1. 1. 1. 1. 0. 0. 1. 1.\n",
      " 1. 1. 1. 1. 1. 1. 0. 1. 1. 0. 1. 1. 0. 1. 1. 1. 1. 1. 1. 0. 0. 0. 1. 1.\n",
      " 1. 1. 0. 1. 0. 1. 0. 1. 1. 1. 1. 1. 1. 1. 1. 1. 1. 1. 1. 1. 1. 1. 0. 0.\n",
      " 1. 1. 1. 0. 0. 1. 1. 0. 1. 1. 0. 1. 1. 0. 1. 1. 0. 1. 1. 1. 1. 1. 0. 1.\n",
      " 1. 0. 1. 0. 1. 0. 0. 1. 1. 0. 0. 1. 1. 1. 1. 1. 1. 1. 1. 1. 1. 0. 0. 0.\n",
      " 1. 1. 1. 1. 1. 0. 0. 0. 1. 1. 1. 0. 1. 1. 1. 1. 0. 1. 0. 1. 1. 1. 1. 1.\n",
      " 1. 1. 1. 1. 1. 0. 0. 1. 1. 1. 1. 1. 1. 1. 0. 1. 1. 0. 0. 1. 0. 0. 1. 1.\n",
      " 1. 1. 1. 1. 1. 1. 1. 1. 1. 0. 1. 0. 1. 0. 0. 1. 1. 0. 0. 0. 1. 1. 1. 1.\n",
      " 1. 0. 1. 1. 1. 1. 1. 1. 0. 1. 1. 1. 1. 0. 0. 1. 1. 0. 1. 1. 1. 1. 1. 1.\n",
      " 1. 1. 1. 1. 1. 1. 1. 1. 1. 0. 0. 1. 1. 1. 1. 0. 0. 1. 0. 1. 0. 0. 1. 0.\n",
      " 0. 1. 1. 0. 1. 1. 1. 1. 1. 1. 1. 1. 1. 1. 1. 1. 1. 1. 1. 0. 1. 0. 1. 1.\n",
      " 1. 0. 1. 1. 1. 1. 0. 1. 1. 1. 1. 0. 1. 1. 1. 1. 1. 0. 0. 1. 1. 1. 1. 1.\n",
      " 0. 0. 1. 0. 1. 1. 0. 0. 1. 1.]\n",
      "[[0.68586759 0.31413241]\n",
      " [0.9005894  0.0994106 ]\n",
      " [0.01859872 0.98140128]\n",
      " ...\n",
      " [0.98330801 0.01669199]\n",
      " [0.04514342 0.95485658]\n",
      " [0.02016237 0.97983763]]\n"
     ]
    }
   ],
   "source": [
    "print(y_preds)\n",
    "print(y_probs)"
   ]
  },
  {
   "cell_type": "code",
   "execution_count": 92,
   "id": "a5fa2e23",
   "metadata": {},
   "outputs": [
    {
     "name": "stderr",
     "output_type": "stream",
     "text": [
      "5it [03:29, 41.96s/it]\n"
     ]
    }
   ],
   "source": [
    "thresh_vals = np.arange(0.1, 0.91,0.01)\n",
    "\n",
    "thresh = 0.3\n",
    "skf = StratifiedKFold(n_splits = 5, shuffle = True, random_state=rs)\n",
    "f = []\n",
    "tpr= []\n",
    "fpr = []\n",
    "for train_id, test_id in tqdm(skf.split(X_train, y_train)):\n",
    "    X_train_k, X_test_k = X_train[train_id], X_train[test_id]\n",
    "    y_train_k, y_test_k = y_train[train_id], y_train[test_id]\n",
    "    \n",
    "    svm_lin.fit(X_train_k, y_train_k)\n",
    "    probs = svm_lin.predict_proba(X_test_k)\n",
    "    y_pred = np.where(probs[:,0] > thresh, 0, 1)\n",
    "    f.append(f1_score(y_test_k, y_pred))\n",
    "    tn,fp,fn,tp = confusion_matrix(y_test_k, y_pred).ravel()\n",
    "    tpr.append(tp/(tp+fn))\n",
    "    fpr.append(fp/(fp+tn))\n",
    "f = np.array(f)"
   ]
  },
  {
   "cell_type": "code",
   "execution_count": 93,
   "id": "363fb2a3",
   "metadata": {},
   "outputs": [
    {
     "data": {
      "text/plain": [
       "0.8736689415966719"
      ]
     },
     "execution_count": 93,
     "metadata": {},
     "output_type": "execute_result"
    }
   ],
   "source": [
    "f.mean()"
   ]
  },
  {
   "cell_type": "code",
   "execution_count": 94,
   "id": "c134a97f",
   "metadata": {},
   "outputs": [
    {
     "name": "stdout",
     "output_type": "stream",
     "text": [
      "[0.8457207207207207, 0.8502252252252253, 0.8344594594594594, 0.8614864864864865, 0.8410372040586246]\n"
     ]
    }
   ],
   "source": [
    "print(tpr)"
   ]
  },
  {
   "cell_type": "code",
   "execution_count": 95,
   "id": "d0a4409f",
   "metadata": {},
   "outputs": [
    {
     "name": "stdout",
     "output_type": "stream",
     "text": [
      "[0.169921875, 0.158203125, 0.18590998043052837, 0.1643835616438356, 0.115234375]\n"
     ]
    }
   ],
   "source": [
    "print(fpr)"
   ]
  },
  {
   "cell_type": "code",
   "execution_count": 106,
   "id": "3d688792",
   "metadata": {},
   "outputs": [
    {
     "name": "stdout",
     "output_type": "stream",
     "text": [
      "11\n"
     ]
    }
   ],
   "source": [
    "res = np.array([f.mean()]+fpr+tpr)\n",
    "print(len(res))"
   ]
  },
  {
   "cell_type": "code",
   "execution_count": 107,
   "id": "25ed797e",
   "metadata": {},
   "outputs": [],
   "source": [
    "def f_kcv(thresh):\n",
    "    skf = StratifiedKFold(n_splits = 5, shuffle = True, random_state=rs)\n",
    "    f = []\n",
    "    tpr = []\n",
    "    fpr = []\n",
    "    print('Computing f_score for threshold:{}'.format(thresh))\n",
    "    for train_id, test_id in tqdm(skf.split(X_train, y_train)):\n",
    "        X_train_k, X_test_k = X_train[train_id], X_train[test_id]\n",
    "        y_train_k, y_test_k = y_train[train_id], y_train[test_id]\n",
    "\n",
    "        svm_lin.fit(X_train_k, y_train_k)\n",
    "        probs = svm_lin.predict_proba(X_test_k)\n",
    "        y_pred = np.where(probs[:,0] > thresh, 0, 1)\n",
    "        f.append(f1_score(y_test_k, y_pred))\n",
    "        tn,fp,fn,tp = confusion_matrix(y_test_k, y_pred).ravel()\n",
    "        tpr.append(tp/(tp+fn))\n",
    "        fpr.append(fp/(fp+tn))\n",
    "    f = np.array(f)\n",
    "    return np.array([f.mean()] + fpr + tpr)"
   ]
  },
  {
   "cell_type": "code",
   "execution_count": 108,
   "id": "be1cb13b",
   "metadata": {},
   "outputs": [
    {
     "name": "stdout",
     "output_type": "stream",
     "text": [
      "Computing f_score for threshold:0.3\n"
     ]
    },
    {
     "name": "stderr",
     "output_type": "stream",
     "text": [
      "5it [03:19, 39.97s/it]\n"
     ]
    },
    {
     "data": {
      "text/plain": [
       "array([0.87349503, 0.16992188, 0.1640625 , 0.18590998, 0.16438356,\n",
       "       0.11523438, 0.84346847, 0.85247748, 0.83445946, 0.86148649,\n",
       "       0.8421646 ])"
      ]
     },
     "execution_count": 108,
     "metadata": {},
     "output_type": "execute_result"
    }
   ],
   "source": [
    "f_kcv(0.3)"
   ]
  },
  {
   "cell_type": "code",
   "execution_count": 75,
   "id": "744dc095",
   "metadata": {},
   "outputs": [
    {
     "name": "stdout",
     "output_type": "stream",
     "text": [
      "Computing f_score for threshold:0.3\n"
     ]
    },
    {
     "name": "stderr",
     "output_type": "stream",
     "text": [
      "5it [04:27, 53.48s/it]\n"
     ]
    },
    {
     "name": "stdout",
     "output_type": "stream",
     "text": [
      "Computing f_score for threshold:0.4\n"
     ]
    },
    {
     "name": "stderr",
     "output_type": "stream",
     "text": [
      "5it [03:33, 42.72s/it]\n"
     ]
    }
   ],
   "source": [
    "res = [f_kcv(t) for t in [0.3,0.4]]"
   ]
  },
  {
   "cell_type": "code",
   "execution_count": 76,
   "id": "eff1fb5d",
   "metadata": {},
   "outputs": [
    {
     "data": {
      "text/plain": [
       "[0.8739133365245163, 0.8870044322942391]"
      ]
     },
     "execution_count": 76,
     "metadata": {},
     "output_type": "execute_result"
    }
   ],
   "source": [
    "res"
   ]
  },
  {
   "cell_type": "code",
   "execution_count": 110,
   "id": "54e51acb",
   "metadata": {},
   "outputs": [
    {
     "data": {
      "text/plain": [
       "9"
      ]
     },
     "execution_count": 110,
     "metadata": {},
     "output_type": "execute_result"
    }
   ],
   "source": [
    "thresh_vals = np.arange(0.1,0.91,0.1)\n",
    "len(thresh_vals)"
   ]
  }
 ],
 "metadata": {
  "kernelspec": {
   "display_name": "Python 3 (ipykernel)",
   "language": "python",
   "name": "python3"
  },
  "language_info": {
   "codemirror_mode": {
    "name": "ipython",
    "version": 3
   },
   "file_extension": ".py",
   "mimetype": "text/x-python",
   "name": "python",
   "nbconvert_exporter": "python",
   "pygments_lexer": "ipython3",
   "version": "3.9.12"
  }
 },
 "nbformat": 4,
 "nbformat_minor": 5
}
