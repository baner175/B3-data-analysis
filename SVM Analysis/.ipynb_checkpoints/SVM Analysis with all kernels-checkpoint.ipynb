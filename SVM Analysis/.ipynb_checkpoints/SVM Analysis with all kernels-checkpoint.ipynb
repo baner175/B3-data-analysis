{
 "cells": [
  {
   "cell_type": "code",
   "execution_count": 12,
   "id": "475f41a6",
   "metadata": {},
   "outputs": [],
   "source": [
    "from sklearn.svm import SVC\n",
    "from sklearn.metrics import confusion_matrix, f1_score, roc_auc_score, accuracy_score, roc_curve, precision_score, recall_score\n",
    "from sklearn.model_selection import train_test_split, StratifiedKFold\n",
    "from sklearn.preprocessing import MinMaxScaler\n",
    "\n",
    "from tqdm import tqdm\n",
    "\n",
    "import pandas as pd\n",
    "import numpy as np\n",
    "import matplotlib.pyplot as plt"
   ]
  },
  {
   "cell_type": "code",
   "execution_count": 2,
   "id": "14331ea4",
   "metadata": {},
   "outputs": [
    {
     "name": "stdout",
     "output_type": "stream",
     "text": [
      "(6996, 1071)\n",
      "(779, 1071)\n"
     ]
    }
   ],
   "source": [
    "train_data = pd.read_csv('../Training Data.csv', low_memory = False)\n",
    "val_data = pd.read_csv('../Validation Data.csv', low_memory = False)\n",
    "print(train_data.shape)\n",
    "print(val_data.shape)"
   ]
  },
  {
   "cell_type": "code",
   "execution_count": 3,
   "id": "4e5e9d5b",
   "metadata": {},
   "outputs": [
    {
     "name": "stdout",
     "output_type": "stream",
     "text": [
      "(6996, 1070)\n",
      "(6996,)\n",
      "(779, 1070)\n",
      "(779,)\n"
     ]
    }
   ],
   "source": [
    "# X = np.array(data_full.drop(labels = 'y', axis = 1))\n",
    "X_train = np.array(train_data.drop(labels = 'y', axis = 1))\n",
    "X_test = np.array(val_data.drop(labels = 'y', axis = 1))\n",
    "y_train = train_data['y']\n",
    "y_test = val_data['y']\n",
    "y_train_binary = np.zeros(len(y_train))\n",
    "y_train_binary[y_train == 'BBB+'] = 1\n",
    "y_test_binary = np.zeros(len(y_test))\n",
    "y_test_binary[y_test == 'BBB+'] = 1\n",
    "\n",
    "print(X_train.shape)\n",
    "print(y_train_binary.shape)\n",
    "print(X_test.shape)\n",
    "print(y_test_binary.shape)"
   ]
  },
  {
   "cell_type": "code",
   "execution_count": 4,
   "id": "ee61f2eb",
   "metadata": {},
   "outputs": [
    {
     "name": "stdout",
     "output_type": "stream",
     "text": [
      "(6996, 1070)\n"
     ]
    }
   ],
   "source": [
    "mm = MinMaxScaler()\n",
    "mm.fit(X_train)\n",
    "Xs_train = mm.fit_transform(X_train)\n",
    "print(Xs_train.shape)"
   ]
  },
  {
   "cell_type": "code",
   "execution_count": 5,
   "id": "b1692cb5",
   "metadata": {},
   "outputs": [
    {
     "name": "stdout",
     "output_type": "stream",
     "text": [
      "(779, 1070)\n"
     ]
    }
   ],
   "source": [
    "mm.fit(X_test)\n",
    "Xs_test = mm.fit_transform(X_test)\n",
    "print(Xs_test.shape)"
   ]
  },
  {
   "cell_type": "code",
   "execution_count": 6,
   "id": "402a5296",
   "metadata": {},
   "outputs": [
    {
     "name": "stdout",
     "output_type": "stream",
     "text": [
      "0.634505431675243\n",
      "0.6341463414634146\n"
     ]
    }
   ],
   "source": [
    "print(y_train_binary.mean())\n",
    "print(y_test_binary.mean())"
   ]
  },
  {
   "cell_type": "code",
   "execution_count": 7,
   "id": "25ed797e",
   "metadata": {},
   "outputs": [],
   "source": [
    "svm_gauss = SVC(kernel='rbf', probability=True)\n",
    "rs = 42\n",
    "def f_kcv(thresh):\n",
    "    skf = StratifiedKFold(n_splits = 5, shuffle = True, random_state=rs)\n",
    "    f = []\n",
    "    tpr = []\n",
    "    fpr = []\n",
    "    print('Computing f_score for threshold:{}'.format(thresh))\n",
    "    for train_id, test_id in tqdm(skf.split(Xs_train, y_train_binary)):\n",
    "        Xs_train_k, Xs_test_k = Xs_train[train_id], Xs_train[test_id]\n",
    "        y_train_k, y_test_k = y_train_binary[train_id], y_train_binary[test_id]\n",
    "\n",
    "        svm_gauss.fit(Xs_train_k, y_train_k)\n",
    "        probs = svm_gauss.predict_proba(Xs_test_k)\n",
    "        y_pred = np.where(probs[:,1] > thresh, 1, 0)\n",
    "        f.append(f1_score(y_test_k, y_pred))\n",
    "        tn,fp,fn,tp = confusion_matrix(y_test_k, y_pred).ravel()\n",
    "        tpr.append(tp/(tp+fn))\n",
    "        fpr.append(fp/(fp+tn))\n",
    "    f = np.array(f)\n",
    "    return np.array([f.mean()] + fpr + tpr)"
   ]
  },
  {
   "cell_type": "code",
   "execution_count": 13,
   "id": "be1cb13b",
   "metadata": {
    "collapsed": true
   },
   "outputs": [
    {
     "name": "stdout",
     "output_type": "stream",
     "text": [
      "Computing f_score for threshold:0.3\n"
     ]
    },
    {
     "name": "stderr",
     "output_type": "stream",
     "text": [
      "0it [00:46, ?it/s]\n"
     ]
    },
    {
     "ename": "KeyboardInterrupt",
     "evalue": "",
     "output_type": "error",
     "traceback": [
      "\u001b[1;31m---------------------------------------------------------------------------\u001b[0m",
      "\u001b[1;31mKeyboardInterrupt\u001b[0m                         Traceback (most recent call last)",
      "Input \u001b[1;32mIn [13]\u001b[0m, in \u001b[0;36m<cell line: 1>\u001b[1;34m()\u001b[0m\n\u001b[1;32m----> 1\u001b[0m \u001b[43mf_kcv\u001b[49m\u001b[43m(\u001b[49m\u001b[38;5;241;43m0.3\u001b[39;49m\u001b[43m)\u001b[49m\n",
      "Input \u001b[1;32mIn [8]\u001b[0m, in \u001b[0;36mf_kcv\u001b[1;34m(thresh)\u001b[0m\n\u001b[0;32m     10\u001b[0m Xs_train_k, Xs_test_k \u001b[38;5;241m=\u001b[39m Xs_train[train_id], Xs_train[test_id]\n\u001b[0;32m     11\u001b[0m y_train_k, y_test_k \u001b[38;5;241m=\u001b[39m y_train_binary[train_id], y_train_binary[test_id]\n\u001b[1;32m---> 13\u001b[0m \u001b[43msvm_gauss\u001b[49m\u001b[38;5;241;43m.\u001b[39;49m\u001b[43mfit\u001b[49m\u001b[43m(\u001b[49m\u001b[43mXs_train_k\u001b[49m\u001b[43m,\u001b[49m\u001b[43m \u001b[49m\u001b[43my_train_k\u001b[49m\u001b[43m)\u001b[49m\n\u001b[0;32m     14\u001b[0m probs \u001b[38;5;241m=\u001b[39m svm_gauss\u001b[38;5;241m.\u001b[39mpredict_proba(Xs_test_k)\n\u001b[0;32m     15\u001b[0m y_pred \u001b[38;5;241m=\u001b[39m np\u001b[38;5;241m.\u001b[39mwhere(probs[:,\u001b[38;5;241m1\u001b[39m] \u001b[38;5;241m>\u001b[39m thresh, \u001b[38;5;241m1\u001b[39m, \u001b[38;5;241m0\u001b[39m)\n",
      "File \u001b[1;32m~\\anaconda3\\lib\\site-packages\\sklearn\\svm\\_base.py:252\u001b[0m, in \u001b[0;36mBaseLibSVM.fit\u001b[1;34m(self, X, y, sample_weight)\u001b[0m\n\u001b[0;32m    249\u001b[0m     \u001b[38;5;28mprint\u001b[39m(\u001b[38;5;124m\"\u001b[39m\u001b[38;5;124m[LibSVM]\u001b[39m\u001b[38;5;124m\"\u001b[39m, end\u001b[38;5;241m=\u001b[39m\u001b[38;5;124m\"\u001b[39m\u001b[38;5;124m\"\u001b[39m)\n\u001b[0;32m    251\u001b[0m seed \u001b[38;5;241m=\u001b[39m rnd\u001b[38;5;241m.\u001b[39mrandint(np\u001b[38;5;241m.\u001b[39miinfo(\u001b[38;5;124m\"\u001b[39m\u001b[38;5;124mi\u001b[39m\u001b[38;5;124m\"\u001b[39m)\u001b[38;5;241m.\u001b[39mmax)\n\u001b[1;32m--> 252\u001b[0m \u001b[43mfit\u001b[49m\u001b[43m(\u001b[49m\u001b[43mX\u001b[49m\u001b[43m,\u001b[49m\u001b[43m \u001b[49m\u001b[43my\u001b[49m\u001b[43m,\u001b[49m\u001b[43m \u001b[49m\u001b[43msample_weight\u001b[49m\u001b[43m,\u001b[49m\u001b[43m \u001b[49m\u001b[43msolver_type\u001b[49m\u001b[43m,\u001b[49m\u001b[43m \u001b[49m\u001b[43mkernel\u001b[49m\u001b[43m,\u001b[49m\u001b[43m \u001b[49m\u001b[43mrandom_seed\u001b[49m\u001b[38;5;241;43m=\u001b[39;49m\u001b[43mseed\u001b[49m\u001b[43m)\u001b[49m\n\u001b[0;32m    253\u001b[0m \u001b[38;5;66;03m# see comment on the other call to np.iinfo in this file\u001b[39;00m\n\u001b[0;32m    255\u001b[0m \u001b[38;5;28mself\u001b[39m\u001b[38;5;241m.\u001b[39mshape_fit_ \u001b[38;5;241m=\u001b[39m X\u001b[38;5;241m.\u001b[39mshape \u001b[38;5;28;01mif\u001b[39;00m \u001b[38;5;28mhasattr\u001b[39m(X, \u001b[38;5;124m\"\u001b[39m\u001b[38;5;124mshape\u001b[39m\u001b[38;5;124m\"\u001b[39m) \u001b[38;5;28;01melse\u001b[39;00m (n_samples,)\n",
      "File \u001b[1;32m~\\anaconda3\\lib\\site-packages\\sklearn\\svm\\_base.py:331\u001b[0m, in \u001b[0;36mBaseLibSVM._dense_fit\u001b[1;34m(self, X, y, sample_weight, solver_type, kernel, random_seed)\u001b[0m\n\u001b[0;32m    317\u001b[0m libsvm\u001b[38;5;241m.\u001b[39mset_verbosity_wrap(\u001b[38;5;28mself\u001b[39m\u001b[38;5;241m.\u001b[39mverbose)\n\u001b[0;32m    319\u001b[0m \u001b[38;5;66;03m# we don't pass **self.get_params() to allow subclasses to\u001b[39;00m\n\u001b[0;32m    320\u001b[0m \u001b[38;5;66;03m# add other parameters to __init__\u001b[39;00m\n\u001b[0;32m    321\u001b[0m (\n\u001b[0;32m    322\u001b[0m     \u001b[38;5;28mself\u001b[39m\u001b[38;5;241m.\u001b[39msupport_,\n\u001b[0;32m    323\u001b[0m     \u001b[38;5;28mself\u001b[39m\u001b[38;5;241m.\u001b[39msupport_vectors_,\n\u001b[0;32m    324\u001b[0m     \u001b[38;5;28mself\u001b[39m\u001b[38;5;241m.\u001b[39m_n_support,\n\u001b[0;32m    325\u001b[0m     \u001b[38;5;28mself\u001b[39m\u001b[38;5;241m.\u001b[39mdual_coef_,\n\u001b[0;32m    326\u001b[0m     \u001b[38;5;28mself\u001b[39m\u001b[38;5;241m.\u001b[39mintercept_,\n\u001b[0;32m    327\u001b[0m     \u001b[38;5;28mself\u001b[39m\u001b[38;5;241m.\u001b[39m_probA,\n\u001b[0;32m    328\u001b[0m     \u001b[38;5;28mself\u001b[39m\u001b[38;5;241m.\u001b[39m_probB,\n\u001b[0;32m    329\u001b[0m     \u001b[38;5;28mself\u001b[39m\u001b[38;5;241m.\u001b[39mfit_status_,\n\u001b[0;32m    330\u001b[0m     \u001b[38;5;28mself\u001b[39m\u001b[38;5;241m.\u001b[39m_num_iter,\n\u001b[1;32m--> 331\u001b[0m ) \u001b[38;5;241m=\u001b[39m \u001b[43mlibsvm\u001b[49m\u001b[38;5;241;43m.\u001b[39;49m\u001b[43mfit\u001b[49m\u001b[43m(\u001b[49m\n\u001b[0;32m    332\u001b[0m \u001b[43m    \u001b[49m\u001b[43mX\u001b[49m\u001b[43m,\u001b[49m\n\u001b[0;32m    333\u001b[0m \u001b[43m    \u001b[49m\u001b[43my\u001b[49m\u001b[43m,\u001b[49m\n\u001b[0;32m    334\u001b[0m \u001b[43m    \u001b[49m\u001b[43msvm_type\u001b[49m\u001b[38;5;241;43m=\u001b[39;49m\u001b[43msolver_type\u001b[49m\u001b[43m,\u001b[49m\n\u001b[0;32m    335\u001b[0m \u001b[43m    \u001b[49m\u001b[43msample_weight\u001b[49m\u001b[38;5;241;43m=\u001b[39;49m\u001b[43msample_weight\u001b[49m\u001b[43m,\u001b[49m\n\u001b[0;32m    336\u001b[0m \u001b[43m    \u001b[49m\u001b[38;5;66;43;03m# TODO(1.4): Replace \"_class_weight\" with \"class_weight_\"\u001b[39;49;00m\n\u001b[0;32m    337\u001b[0m \u001b[43m    \u001b[49m\u001b[43mclass_weight\u001b[49m\u001b[38;5;241;43m=\u001b[39;49m\u001b[38;5;28;43mgetattr\u001b[39;49m\u001b[43m(\u001b[49m\u001b[38;5;28;43mself\u001b[39;49m\u001b[43m,\u001b[49m\u001b[43m \u001b[49m\u001b[38;5;124;43m\"\u001b[39;49m\u001b[38;5;124;43m_class_weight\u001b[39;49m\u001b[38;5;124;43m\"\u001b[39;49m\u001b[43m,\u001b[49m\u001b[43m \u001b[49m\u001b[43mnp\u001b[49m\u001b[38;5;241;43m.\u001b[39;49m\u001b[43mempty\u001b[49m\u001b[43m(\u001b[49m\u001b[38;5;241;43m0\u001b[39;49m\u001b[43m)\u001b[49m\u001b[43m)\u001b[49m\u001b[43m,\u001b[49m\n\u001b[0;32m    338\u001b[0m \u001b[43m    \u001b[49m\u001b[43mkernel\u001b[49m\u001b[38;5;241;43m=\u001b[39;49m\u001b[43mkernel\u001b[49m\u001b[43m,\u001b[49m\n\u001b[0;32m    339\u001b[0m \u001b[43m    \u001b[49m\u001b[43mC\u001b[49m\u001b[38;5;241;43m=\u001b[39;49m\u001b[38;5;28;43mself\u001b[39;49m\u001b[38;5;241;43m.\u001b[39;49m\u001b[43mC\u001b[49m\u001b[43m,\u001b[49m\n\u001b[0;32m    340\u001b[0m \u001b[43m    \u001b[49m\u001b[43mnu\u001b[49m\u001b[38;5;241;43m=\u001b[39;49m\u001b[38;5;28;43mself\u001b[39;49m\u001b[38;5;241;43m.\u001b[39;49m\u001b[43mnu\u001b[49m\u001b[43m,\u001b[49m\n\u001b[0;32m    341\u001b[0m \u001b[43m    \u001b[49m\u001b[43mprobability\u001b[49m\u001b[38;5;241;43m=\u001b[39;49m\u001b[38;5;28;43mself\u001b[39;49m\u001b[38;5;241;43m.\u001b[39;49m\u001b[43mprobability\u001b[49m\u001b[43m,\u001b[49m\n\u001b[0;32m    342\u001b[0m \u001b[43m    \u001b[49m\u001b[43mdegree\u001b[49m\u001b[38;5;241;43m=\u001b[39;49m\u001b[38;5;28;43mself\u001b[39;49m\u001b[38;5;241;43m.\u001b[39;49m\u001b[43mdegree\u001b[49m\u001b[43m,\u001b[49m\n\u001b[0;32m    343\u001b[0m \u001b[43m    \u001b[49m\u001b[43mshrinking\u001b[49m\u001b[38;5;241;43m=\u001b[39;49m\u001b[38;5;28;43mself\u001b[39;49m\u001b[38;5;241;43m.\u001b[39;49m\u001b[43mshrinking\u001b[49m\u001b[43m,\u001b[49m\n\u001b[0;32m    344\u001b[0m \u001b[43m    \u001b[49m\u001b[43mtol\u001b[49m\u001b[38;5;241;43m=\u001b[39;49m\u001b[38;5;28;43mself\u001b[39;49m\u001b[38;5;241;43m.\u001b[39;49m\u001b[43mtol\u001b[49m\u001b[43m,\u001b[49m\n\u001b[0;32m    345\u001b[0m \u001b[43m    \u001b[49m\u001b[43mcache_size\u001b[49m\u001b[38;5;241;43m=\u001b[39;49m\u001b[38;5;28;43mself\u001b[39;49m\u001b[38;5;241;43m.\u001b[39;49m\u001b[43mcache_size\u001b[49m\u001b[43m,\u001b[49m\n\u001b[0;32m    346\u001b[0m \u001b[43m    \u001b[49m\u001b[43mcoef0\u001b[49m\u001b[38;5;241;43m=\u001b[39;49m\u001b[38;5;28;43mself\u001b[39;49m\u001b[38;5;241;43m.\u001b[39;49m\u001b[43mcoef0\u001b[49m\u001b[43m,\u001b[49m\n\u001b[0;32m    347\u001b[0m \u001b[43m    \u001b[49m\u001b[43mgamma\u001b[49m\u001b[38;5;241;43m=\u001b[39;49m\u001b[38;5;28;43mself\u001b[39;49m\u001b[38;5;241;43m.\u001b[39;49m\u001b[43m_gamma\u001b[49m\u001b[43m,\u001b[49m\n\u001b[0;32m    348\u001b[0m \u001b[43m    \u001b[49m\u001b[43mepsilon\u001b[49m\u001b[38;5;241;43m=\u001b[39;49m\u001b[38;5;28;43mself\u001b[39;49m\u001b[38;5;241;43m.\u001b[39;49m\u001b[43mepsilon\u001b[49m\u001b[43m,\u001b[49m\n\u001b[0;32m    349\u001b[0m \u001b[43m    \u001b[49m\u001b[43mmax_iter\u001b[49m\u001b[38;5;241;43m=\u001b[39;49m\u001b[38;5;28;43mself\u001b[39;49m\u001b[38;5;241;43m.\u001b[39;49m\u001b[43mmax_iter\u001b[49m\u001b[43m,\u001b[49m\n\u001b[0;32m    350\u001b[0m \u001b[43m    \u001b[49m\u001b[43mrandom_seed\u001b[49m\u001b[38;5;241;43m=\u001b[39;49m\u001b[43mrandom_seed\u001b[49m\u001b[43m,\u001b[49m\n\u001b[0;32m    351\u001b[0m \u001b[43m\u001b[49m\u001b[43m)\u001b[49m\n\u001b[0;32m    353\u001b[0m \u001b[38;5;28mself\u001b[39m\u001b[38;5;241m.\u001b[39m_warn_from_fit_status()\n",
      "\u001b[1;31mKeyboardInterrupt\u001b[0m: "
     ]
    }
   ],
   "source": [
    "f_kcv(0.3)"
   ]
  },
  {
   "cell_type": "code",
   "execution_count": 14,
   "id": "6efa1447",
   "metadata": {},
   "outputs": [
    {
     "name": "stdout",
     "output_type": "stream",
     "text": [
      "18\n",
      "[0.1  0.15 0.2  0.25 0.3  0.35 0.4  0.45 0.5  0.55 0.6  0.65 0.7  0.75\n",
      " 0.8  0.85 0.9  0.95]\n"
     ]
    }
   ],
   "source": [
    "thresh_vals = np.arange(0.1, 1,0.05)\n",
    "print(len(thresh_vals))\n",
    "print(thresh_vals)"
   ]
  },
  {
   "cell_type": "code",
   "execution_count": 15,
   "id": "744dc095",
   "metadata": {
    "collapsed": true
   },
   "outputs": [
    {
     "name": "stdout",
     "output_type": "stream",
     "text": [
      "Computing f_score for threshold:0.1\n"
     ]
    },
    {
     "name": "stderr",
     "output_type": "stream",
     "text": [
      "5it [03:58, 47.67s/it]\n"
     ]
    },
    {
     "name": "stdout",
     "output_type": "stream",
     "text": [
      "Computing f_score for threshold:0.15000000000000002\n"
     ]
    },
    {
     "name": "stderr",
     "output_type": "stream",
     "text": [
      "5it [03:50, 46.02s/it]\n"
     ]
    },
    {
     "name": "stdout",
     "output_type": "stream",
     "text": [
      "Computing f_score for threshold:0.20000000000000004\n"
     ]
    },
    {
     "name": "stderr",
     "output_type": "stream",
     "text": [
      "5it [03:54, 46.82s/it]\n"
     ]
    },
    {
     "name": "stdout",
     "output_type": "stream",
     "text": [
      "Computing f_score for threshold:0.25000000000000006\n"
     ]
    },
    {
     "name": "stderr",
     "output_type": "stream",
     "text": [
      "5it [03:50, 46.20s/it]\n"
     ]
    },
    {
     "name": "stdout",
     "output_type": "stream",
     "text": [
      "Computing f_score for threshold:0.30000000000000004\n"
     ]
    },
    {
     "name": "stderr",
     "output_type": "stream",
     "text": [
      "5it [03:56, 47.26s/it]\n"
     ]
    },
    {
     "name": "stdout",
     "output_type": "stream",
     "text": [
      "Computing f_score for threshold:0.3500000000000001\n"
     ]
    },
    {
     "name": "stderr",
     "output_type": "stream",
     "text": [
      "5it [03:54, 46.94s/it]\n"
     ]
    },
    {
     "name": "stdout",
     "output_type": "stream",
     "text": [
      "Computing f_score for threshold:0.40000000000000013\n"
     ]
    },
    {
     "name": "stderr",
     "output_type": "stream",
     "text": [
      "5it [03:56, 47.37s/it]\n"
     ]
    },
    {
     "name": "stdout",
     "output_type": "stream",
     "text": [
      "Computing f_score for threshold:0.45000000000000007\n"
     ]
    },
    {
     "name": "stderr",
     "output_type": "stream",
     "text": [
      "5it [04:29, 53.86s/it]\n"
     ]
    },
    {
     "name": "stdout",
     "output_type": "stream",
     "text": [
      "Computing f_score for threshold:0.5000000000000001\n"
     ]
    },
    {
     "name": "stderr",
     "output_type": "stream",
     "text": [
      "5it [05:00, 60.12s/it]\n"
     ]
    },
    {
     "name": "stdout",
     "output_type": "stream",
     "text": [
      "Computing f_score for threshold:0.5500000000000002\n"
     ]
    },
    {
     "name": "stderr",
     "output_type": "stream",
     "text": [
      "5it [05:53, 70.72s/it]\n"
     ]
    },
    {
     "name": "stdout",
     "output_type": "stream",
     "text": [
      "Computing f_score for threshold:0.6000000000000002\n"
     ]
    },
    {
     "name": "stderr",
     "output_type": "stream",
     "text": [
      "5it [05:47, 69.56s/it]\n"
     ]
    },
    {
     "name": "stdout",
     "output_type": "stream",
     "text": [
      "Computing f_score for threshold:0.6500000000000001\n"
     ]
    },
    {
     "name": "stderr",
     "output_type": "stream",
     "text": [
      "5it [05:29, 65.83s/it]\n"
     ]
    },
    {
     "name": "stdout",
     "output_type": "stream",
     "text": [
      "Computing f_score for threshold:0.7000000000000002\n"
     ]
    },
    {
     "name": "stderr",
     "output_type": "stream",
     "text": [
      "5it [05:55, 71.02s/it]\n"
     ]
    },
    {
     "name": "stdout",
     "output_type": "stream",
     "text": [
      "Computing f_score for threshold:0.7500000000000002\n"
     ]
    },
    {
     "name": "stderr",
     "output_type": "stream",
     "text": [
      "5it [05:54, 70.94s/it]\n"
     ]
    },
    {
     "name": "stdout",
     "output_type": "stream",
     "text": [
      "Computing f_score for threshold:0.8000000000000002\n"
     ]
    },
    {
     "name": "stderr",
     "output_type": "stream",
     "text": [
      "5it [07:30, 90.09s/it]\n"
     ]
    },
    {
     "name": "stdout",
     "output_type": "stream",
     "text": [
      "Computing f_score for threshold:0.8500000000000002\n"
     ]
    },
    {
     "name": "stderr",
     "output_type": "stream",
     "text": [
      "5it [04:22, 52.49s/it]\n"
     ]
    },
    {
     "name": "stdout",
     "output_type": "stream",
     "text": [
      "Computing f_score for threshold:0.9000000000000002\n"
     ]
    },
    {
     "name": "stderr",
     "output_type": "stream",
     "text": [
      "5it [04:08, 49.70s/it]\n"
     ]
    },
    {
     "name": "stdout",
     "output_type": "stream",
     "text": [
      "Computing f_score for threshold:0.9500000000000003\n"
     ]
    },
    {
     "name": "stderr",
     "output_type": "stream",
     "text": [
      "5it [04:08, 49.67s/it]\n"
     ]
    }
   ],
   "source": [
    "res = [f_kcv(t) for t in thresh_vals]"
   ]
  },
  {
   "cell_type": "code",
   "execution_count": 16,
   "id": "eff1fb5d",
   "metadata": {},
   "outputs": [
    {
     "name": "stdout",
     "output_type": "stream",
     "text": [
      "(18, 11)\n"
     ]
    }
   ],
   "source": [
    "res = np.array(res)\n",
    "print(res.shape)"
   ]
  },
  {
   "cell_type": "code",
   "execution_count": 17,
   "id": "54e51acb",
   "metadata": {},
   "outputs": [
    {
     "data": {
      "text/plain": [
       "[<matplotlib.lines.Line2D at 0x255d7bb16d0>]"
      ]
     },
     "execution_count": 17,
     "metadata": {},
     "output_type": "execute_result"
    },
    {
     "data": {
      "image/png": "[encoded data removed]",
      "text/plain": [
       "<Figure size 576x720 with 1 Axes>"
      ]
     },
     "metadata": {
      "needs_background": "light"
     },
     "output_type": "display_data"
    }
   ],
   "source": [
    "f_vec = res[:,0]\n",
    "fig, axs = plt.subplots(nrows=1, ncols = 1, figsize = (8,10))\n",
    "axs.plot(thresh_vals, f_vec)"
   ]
  },
  {
   "cell_type": "code",
   "execution_count": 18,
   "id": "6e291ea1",
   "metadata": {},
   "outputs": [
    {
     "data": {
      "text/plain": [
       "array([0.8697812 , 0.87220198, 0.87333036, 0.87514271, 0.87728263,\n",
       "       0.87837382, 0.88004955, 0.88093406, 0.88076431, 0.88068623,\n",
       "       0.87893174, 0.87648489, 0.86752468, 0.85903902, 0.82732394,\n",
       "       0.73110112, 0.52978937, 0.09492664])"
      ]
     },
     "execution_count": 18,
     "metadata": {},
     "output_type": "execute_result"
    }
   ],
   "source": [
    "f_vec"
   ]
  },
  {
   "cell_type": "code",
   "execution_count": 19,
   "id": "85824719",
   "metadata": {},
   "outputs": [
    {
     "data": {
      "text/plain": [
       "(array([7], dtype=int64),)"
      ]
     },
     "execution_count": 19,
     "metadata": {},
     "output_type": "execute_result"
    }
   ],
   "source": [
    "np.where(f_vec == np.max(f_vec))"
   ]
  },
  {
   "cell_type": "code",
   "execution_count": 20,
   "id": "c6222027",
   "metadata": {},
   "outputs": [
    {
     "data": {
      "text/plain": [
       "0.40000000000000013"
      ]
     },
     "execution_count": 20,
     "metadata": {},
     "output_type": "execute_result"
    }
   ],
   "source": [
    "thresh_vals[6]"
   ]
  },
  {
   "cell_type": "code",
   "execution_count": 21,
   "id": "a3fec377",
   "metadata": {},
   "outputs": [
    {
     "data": {
      "text/plain": [
       "array([1, 2, 3, 4, 5])"
      ]
     },
     "execution_count": 21,
     "metadata": {},
     "output_type": "execute_result"
    }
   ],
   "source": [
    "np.arange(1,6)"
   ]
  },
  {
   "cell_type": "code",
   "execution_count": 22,
   "id": "5c253c3f",
   "metadata": {},
   "outputs": [
    {
     "data": {
      "text/plain": [
       "[<matplotlib.lines.Line2D at 0x255dcdcd100>]"
      ]
     },
     "execution_count": 22,
     "metadata": {},
     "output_type": "execute_result"
    },
    {
     "data": {
      "image/png": "[encoded data removed]",
      "text/plain": [
       "<Figure size 648x720 with 1 Axes>"
      ]
     },
     "metadata": {
      "needs_background": "light"
     },
     "output_type": "display_data"
    }
   ],
   "source": [
    "fig, axs = plt.subplots(nrows=1, ncols = 1, figsize = (9,10))\n",
    "xs = np.arange(0,0.61,0.01)\n",
    "for i in np.arange(1,5):\n",
    "    axs.plot(res[:,i], res[:,i+5], color = 'b')\n",
    "axs.plot(xs,xs,color = 'y', linestyle = '--')"
   ]
  },
  {
   "cell_type": "code",
   "execution_count": 16,
   "id": "4eeb6ef9",
   "metadata": {},
   "outputs": [
    {
     "name": "stderr",
     "output_type": "stream",
     "text": [
      "5it [01:39, 19.87s/it]"
     ]
    },
    {
     "name": "stdout",
     "output_type": "stream",
     "text": [
      "Accuracy using Gaussian kernel:0.8316177882160728\n",
      "F-score using Gaussian kernel:0.8794235271952273\n"
     ]
    },
    {
     "name": "stderr",
     "output_type": "stream",
     "text": [
      "\n"
     ]
    }
   ],
   "source": [
    "accuracy_vector = []\n",
    "f_vector = []\n",
    "svm = SVC(kernel = 'rbf')\n",
    "rs = 42\n",
    "skf = StratifiedKFold(n_splits = 5, shuffle = True, random_state=rs)\n",
    "for train_id, test_id in tqdm(skf.split(Xs_train, y_train_binary)):\n",
    "    Xs_train_k, Xs_test_k = Xs_train[train_id], Xs_train[test_id]\n",
    "    y_train_k, y_test_k = y_train_binary[train_id], y_train_binary[test_id]\n",
    "    \n",
    "    svm.fit(Xs_train_k, y_train_k)\n",
    "    y_pred = svm.predict(Xs_test_k)\n",
    "    accuracy_vector.append(accuracy_score(y_test_k, y_pred))\n",
    "    f_vector.append(f1_score(y_test_k, y_pred))\n",
    "\n",
    "accuracy_vector = np.array(accuracy_vector)\n",
    "f_vector = np.array(f_vector)\n",
    "print('Accuracy using Gaussian kernel:{}'.format(accuracy_vector.mean()))\n",
    "print('F-score using Gaussian kernel:{}'.format(f_vector.mean()))"
   ]
  },
  {
   "cell_type": "code",
   "execution_count": 9,
   "id": "1f382890",
   "metadata": {},
   "outputs": [
    {
     "name": "stderr",
     "output_type": "stream",
     "text": [
      "5it [00:45,  9.03s/it]"
     ]
    },
    {
     "name": "stdout",
     "output_type": "stream",
     "text": [
      "Accuracy using Linear kernel:0.8503421831920759\n",
      "F-score using Linear kernel:0.8881479953671547\n"
     ]
    },
    {
     "name": "stderr",
     "output_type": "stream",
     "text": [
      "\n"
     ]
    }
   ],
   "source": [
    "accuracy_vector = []\n",
    "f_vector = []\n",
    "svm = SVC(kernel = 'linear')\n",
    "rs = 42\n",
    "skf = StratifiedKFold(n_splits = 5, shuffle = True, random_state=rs)\n",
    "for train_id, test_id in tqdm(skf.split(Xs_train, y_train_binary)):\n",
    "    Xs_train_k, Xs_test_k = Xs_train[train_id], Xs_train[test_id]\n",
    "    y_train_k, y_test_k = y_train_binary[train_id], y_train_binary[test_id]\n",
    "    \n",
    "    svm.fit(Xs_train_k, y_train_k)\n",
    "    y_pred = svm.predict(Xs_test_k)\n",
    "    accuracy_vector.append(accuracy_score(y_test_k, y_pred))\n",
    "    f_vector.append(f1_score(y_test_k, y_pred))\n",
    "    \n",
    "accuracy_vector = np.array(accuracy_vector)\n",
    "f_vector = np.array(f_vector)\n",
    "print('Accuracy using Linear kernel:{}'.format(accuracy_vector.mean()))\n",
    "print('F-score using Linear kernel:{}'.format(f_vector.mean()))"
   ]
  },
  {
   "cell_type": "code",
   "execution_count": 10,
   "id": "bdfb927f",
   "metadata": {},
   "outputs": [
    {
     "name": "stderr",
     "output_type": "stream",
     "text": [
      "5it [00:43,  8.68s/it]"
     ]
    },
    {
     "name": "stdout",
     "output_type": "stream",
     "text": [
      "Accuracy using Polynomial kernel:0.8473404472582458\n",
      "F-score using Polynomial kernel:0.8886404348406438\n"
     ]
    },
    {
     "name": "stderr",
     "output_type": "stream",
     "text": [
      "\n"
     ]
    }
   ],
   "source": [
    "accuracy_vector = []\n",
    "f_vector = []\n",
    "svm = SVC(kernel = 'poly')\n",
    "rs = 42\n",
    "skf = StratifiedKFold(n_splits = 5, shuffle = True, random_state=rs)\n",
    "for train_id, test_id in tqdm(skf.split(Xs_train, y_train_binary)):\n",
    "    Xs_train_k, Xs_test_k = Xs_train[train_id], Xs_train[test_id]\n",
    "    y_train_k, y_test_k = y_train_binary[train_id], y_train_binary[test_id]\n",
    "    \n",
    "    svm.fit(Xs_train_k, y_train_k)\n",
    "    y_pred = svm.predict(Xs_test_k)\n",
    "    accuracy_vector.append(accuracy_score(y_test_k, y_pred))\n",
    "    f_vector.append(f1_score(y_test_k, y_pred))\n",
    "    \n",
    "accuracy_vector = np.array(accuracy_vector)\n",
    "f_vector = np.array(f_vector)\n",
    "print('Accuracy using Polynomial kernel:{}'.format(accuracy_vector.mean()))\n",
    "print('F-score using Polynomial kernel:{}'.format(f_vector.mean()))"
   ]
  },
  {
   "cell_type": "code",
   "execution_count": 11,
   "id": "9473568e",
   "metadata": {},
   "outputs": [
    {
     "name": "stderr",
     "output_type": "stream",
     "text": [
      "5it [01:13, 14.71s/it]"
     ]
    },
    {
     "name": "stdout",
     "output_type": "stream",
     "text": [
      "Accuracy using Sigmoid kernel:0.7974538956397427\n",
      "F-score using Sigmoid kernel:0.858733969718498\n"
     ]
    },
    {
     "name": "stderr",
     "output_type": "stream",
     "text": [
      "\n"
     ]
    }
   ],
   "source": [
    "accuracy_vector = []\n",
    "f_vector = []\n",
    "svm = SVC(kernel = 'sigmoid')\n",
    "rs = 42\n",
    "skf = StratifiedKFold(n_splits = 5, shuffle = True, random_state=rs)\n",
    "for train_id, test_id in tqdm(skf.split(Xs_train, y_train_binary)):\n",
    "    Xs_train_k, Xs_test_k = Xs_train[train_id], Xs_train[test_id]\n",
    "    y_train_k, y_test_k = y_train_binary[train_id], y_train_binary[test_id]\n",
    "    \n",
    "    svm.fit(Xs_train_k, y_train_k)\n",
    "    y_pred = svm.predict(Xs_test_k)\n",
    "    accuracy_vector.append(accuracy_score(y_test_k, y_pred))\n",
    "    f_vector.append(f1_score(y_test_k, y_pred))\n",
    "    \n",
    "accuracy_vector = np.array(accuracy_vector)\n",
    "f_vector = np.array(f_vector)\n",
    "print('Accuracy using Sigmoid kernel:{}'.format(accuracy_vector.mean()))\n",
    "print('F-score using Sigmoid kernel:{}'.format(f_vector.mean()))"
   ]
  },
  {
   "cell_type": "markdown",
   "id": "af8ce2ab",
   "metadata": {},
   "source": [
    "# On the validation split"
   ]
  },
  {
   "cell_type": "code",
   "execution_count": 13,
   "id": "b698c933",
   "metadata": {},
   "outputs": [
    {
     "name": "stdout",
     "output_type": "stream",
     "text": [
      "Accuracy using Gaussian kernel:0.8459563543003851\n",
      "Precision using Gaussian kernel:0.8961864406779662\n",
      "Recall using Gaussian kernel:0.8562753036437247\n",
      "F-score using Gaussian kernel:0.875776397515528\n"
     ]
    }
   ],
   "source": [
    "svm = SVC(kernel = 'rbf')\n",
    "svm.fit(Xs_train, y_train_binary)\n",
    "y_pred = svm.predict(Xs_test)\n",
    "\n",
    "print('Accuracy using Gaussian kernel:{}'.format(accuracy_score(y_test_binary, y_pred)))\n",
    "print('Precision using Gaussian kernel:{}'.format(precision_score(y_test_binary, y_pred)))\n",
    "print('Recall using Gaussian kernel:{}'.format(recall_score(y_test_binary, y_pred)))\n",
    "print('F-score using Gaussian kernel:{}'.format(f1_score(y_test_binary, y_pred)))"
   ]
  },
  {
   "cell_type": "code",
   "execution_count": 14,
   "id": "33228420",
   "metadata": {},
   "outputs": [
    {
     "name": "stdout",
     "output_type": "stream",
     "text": [
      "Accuracy using Linear kernel:0.8600770218228498\n",
      "Precision using Linear kernel:0.8969072164948454\n",
      "Recall using Linear kernel:0.8805668016194332\n",
      "F-score using Linear kernel:0.8886618998978549\n"
     ]
    }
   ],
   "source": [
    "svm = SVC(kernel = 'linear')\n",
    "svm.fit(Xs_train, y_train_binary)\n",
    "y_pred = svm.predict(Xs_test)\n",
    "\n",
    "print('Accuracy using Linear kernel:{}'.format(accuracy_score(y_test_binary, y_pred)))\n",
    "print('Precision using Linear kernel:{}'.format(precision_score(y_test_binary, y_pred)))\n",
    "print('Recall using Linear kernel:{}'.format(recall_score(y_test_binary, y_pred)))\n",
    "print('F-score using Linear kernel:{}'.format(f1_score(y_test_binary, y_pred)))"
   ]
  },
  {
   "cell_type": "code",
   "execution_count": 17,
   "id": "7e3c6105",
   "metadata": {},
   "outputs": [
    {
     "name": "stdout",
     "output_type": "stream",
     "text": [
      "Accuracy using Polynomial kernel:0.8510911424903723\n",
      "Precision using Polynomial kernel:0.921875\n",
      "Recall using Polynomial kernel:0.8360323886639676\n",
      "F-score using Polynomial kernel:0.8768577494692144\n"
     ]
    }
   ],
   "source": [
    "svm = SVC(kernel = 'poly')\n",
    "svm.fit(Xs_train, y_train_binary)\n",
    "y_pred = svm.predict(Xs_test)\n",
    "\n",
    "print('Accuracy using Polynomial kernel:{}'.format(accuracy_score(y_test_binary, y_pred)))\n",
    "print('Precision using Polynomial kernel:{}'.format(precision_score(y_test_binary, y_pred)))\n",
    "print('Recall using Polynomial kernel:{}'.format(recall_score(y_test_binary, y_pred)))\n",
    "print('F-score using Polynomial kernel:{}'.format(f1_score(y_test_binary, y_pred)))"
   ]
  },
  {
   "cell_type": "code",
   "execution_count": 18,
   "id": "3b329b88",
   "metadata": {},
   "outputs": [
    {
     "name": "stdout",
     "output_type": "stream",
     "text": [
      "Accuracy using Sigmoid kernel:0.7753530166880617\n",
      "Precision using Sigmoid kernel:0.8073217726396917\n",
      "Recall using Sigmoid kernel:0.8481781376518218\n",
      "F-score using Sigmoid kernel:0.8272458045409674\n"
     ]
    }
   ],
   "source": [
    "svm = SVC(kernel = 'sigmoid')\n",
    "svm.fit(Xs_train, y_train_binary)\n",
    "y_pred = svm.predict(Xs_test)\n",
    "\n",
    "print('Accuracy using Sigmoid kernel:{}'.format(accuracy_score(y_test_binary, y_pred)))\n",
    "print('Precision using Sigmoid kernel:{}'.format(precision_score(y_test_binary, y_pred)))\n",
    "print('Recall using Sigmoid kernel:{}'.format(recall_score(y_test_binary, y_pred)))\n",
    "print('F-score using Sigmoid kernel:{}'.format(f1_score(y_test_binary, y_pred)))"
   ]
  }
 ],
 "metadata": {
  "kernelspec": {
   "display_name": "Python 3 (ipykernel)",
   "language": "python",
   "name": "python3"
  },
  "language_info": {
   "codemirror_mode": {
    "name": "ipython",
    "version": 3
   },
   "file_extension": ".py",
   "mimetype": "text/x-python",
   "name": "python",
   "nbconvert_exporter": "python",
   "pygments_lexer": "ipython3",
   "version": "3.9.12"
  }
 },
 "nbformat": 4,
 "nbformat_minor": 5
}
